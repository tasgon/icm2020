{
 "cells": [
  {
   "cell_type": "code",
   "execution_count": 1,
   "metadata": {},
   "outputs": [],
   "source": [
    "using Pkg"
   ]
  },
  {
   "cell_type": "code",
   "execution_count": 2,
   "metadata": {},
   "outputs": [
    {
     "name": "stdout",
     "output_type": "stream",
     "text": [
      "\u001b[32m\u001b[1m  Updating\u001b[22m\u001b[39m registry at `~/.julia/registries/General`\n",
      "\u001b[32m\u001b[1m  Updating\u001b[22m\u001b[39m git-repo `https://github.com/JuliaRegistries/General.git`\n",
      "\u001b[2K\u001b[?25h[1mFetching:\u001b[22m\u001b[39m [========================================>]  100.0 %.0 %13.7 %>                             ]  27.4 %                  ]  54.6 % [============================>            ]  68.3 %>     ]  85.4 % [========================================>]  99.1 %\u001b[32m\u001b[1m Resolving\u001b[22m\u001b[39m package versions...\n",
      "\u001b[32m\u001b[1m Installed\u001b[22m\u001b[39m PooledArrays ──────────────── v0.5.3\n",
      "\u001b[32m\u001b[1m Installed\u001b[22m\u001b[39m InvertedIndices ───────────── v1.0.0\n",
      "\u001b[32m\u001b[1m Installed\u001b[22m\u001b[39m DataValueInterfaces ───────── v1.0.0\n",
      "\u001b[32m\u001b[1m Installed\u001b[22m\u001b[39m IteratorInterfaceExtensions ─ v1.0.0\n",
      "\u001b[32m\u001b[1m Installed\u001b[22m\u001b[39m Compat ────────────────────── v3.5.0\n",
      "\u001b[32m\u001b[1m Installed\u001b[22m\u001b[39m Tables ────────────────────── v1.0.1\n",
      "\u001b[32m\u001b[1m Installed\u001b[22m\u001b[39m CategoricalArrays ─────────── v0.7.7\n",
      "\u001b[32m\u001b[1m Installed\u001b[22m\u001b[39m DataFrames ────────────────── v0.20.2\n",
      "\u001b[32m\u001b[1m Installed\u001b[22m\u001b[39m TableTraits ───────────────── v1.0.0\n",
      "\u001b[32m\u001b[1m  Updating\u001b[22m\u001b[39m `~/.julia/environments/v1.3/Project.toml`\n",
      " \u001b[90m [a93c6f00]\u001b[39m\u001b[92m + DataFrames v0.20.2\u001b[39m\n",
      "\u001b[32m\u001b[1m  Updating\u001b[22m\u001b[39m `~/.julia/environments/v1.3/Manifest.toml`\n",
      " \u001b[90m [324d7699]\u001b[39m\u001b[92m + CategoricalArrays v0.7.7\u001b[39m\n",
      " \u001b[90m [34da2185]\u001b[39m\u001b[92m + Compat v3.5.0\u001b[39m\n",
      " \u001b[90m [a93c6f00]\u001b[39m\u001b[92m + DataFrames v0.20.2\u001b[39m\n",
      " \u001b[90m [e2d170a0]\u001b[39m\u001b[92m + DataValueInterfaces v1.0.0\u001b[39m\n",
      " \u001b[90m [41ab1584]\u001b[39m\u001b[92m + InvertedIndices v1.0.0\u001b[39m\n",
      " \u001b[90m [82899510]\u001b[39m\u001b[92m + IteratorInterfaceExtensions v1.0.0\u001b[39m\n",
      " \u001b[90m [2dfb63ee]\u001b[39m\u001b[92m + PooledArrays v0.5.3\u001b[39m\n",
      " \u001b[90m [3783bdb8]\u001b[39m\u001b[92m + TableTraits v1.0.0\u001b[39m\n",
      " \u001b[90m [bd369af6]\u001b[39m\u001b[92m + Tables v1.0.1\u001b[39m\n",
      " \u001b[90m [9fa8497b]\u001b[39m\u001b[92m + Future \u001b[39m\n",
      " \u001b[90m [1a1011a3]\u001b[39m\u001b[92m + SharedArrays \u001b[39m\n"
     ]
    }
   ],
   "source": [
    "Pkg.add(\"DataFrames\")"
   ]
  },
  {
   "cell_type": "code",
   "execution_count": 3,
   "metadata": {},
   "outputs": [
    {
     "name": "stdout",
     "output_type": "stream",
     "text": [
      "\u001b[32m\u001b[1m Resolving\u001b[22m\u001b[39m package versions...\n",
      "\u001b[32m\u001b[1m Installed\u001b[22m\u001b[39m WeakRefStrings ─ v0.6.2\n",
      "\u001b[32m\u001b[1m Installed\u001b[22m\u001b[39m FilePathsBase ── v0.7.0\n",
      "\u001b[32m\u001b[1m Installed\u001b[22m\u001b[39m CSV ──────────── v0.5.24\n",
      "\u001b[32m\u001b[1m  Updating\u001b[22m\u001b[39m `~/.julia/environments/v1.3/Project.toml`\n",
      " \u001b[90m [336ed68f]\u001b[39m\u001b[92m + CSV v0.5.24\u001b[39m\n",
      "\u001b[32m\u001b[1m  Updating\u001b[22m\u001b[39m `~/.julia/environments/v1.3/Manifest.toml`\n",
      " \u001b[90m [336ed68f]\u001b[39m\u001b[92m + CSV v0.5.24\u001b[39m\n",
      " \u001b[90m [48062228]\u001b[39m\u001b[92m + FilePathsBase v0.7.0\u001b[39m\n",
      " \u001b[90m [ea10d353]\u001b[39m\u001b[92m + WeakRefStrings v0.6.2\u001b[39m\n"
     ]
    }
   ],
   "source": [
    "Pkg.add(\"CSV\")"
   ]
  },
  {
   "cell_type": "code",
   "execution_count": 4,
   "metadata": {},
   "outputs": [
    {
     "name": "stderr",
     "output_type": "stream",
     "text": [
      "┌ Info: Precompiling DataFrames [a93c6f00-e57d-5684-b7b6-d8193f3e46c0]\n",
      "└ @ Base loading.jl:1273\n"
     ]
    }
   ],
   "source": [
    "using DataFrames"
   ]
  },
  {
   "cell_type": "code",
   "execution_count": 5,
   "metadata": {},
   "outputs": [
    {
     "name": "stderr",
     "output_type": "stream",
     "text": [
      "┌ Info: Precompiling CSV [336ed68f-0bac-5ca0-87d4-7b16caf5d00b]\n",
      "└ @ Base loading.jl:1273\n"
     ]
    }
   ],
   "source": [
    "using CSV"
   ]
  },
  {
   "cell_type": "code",
   "execution_count": 6,
   "metadata": {},
   "outputs": [
    {
     "data": {
      "text/html": [
       "<table class=\"data-frame\"><thead><tr><th></th><th>MatchID</th><th>TeamID</th><th>OriginPlayerID</th><th>DestinationPlayerID</th><th>MatchPeriod</th><th>EventTime</th></tr><tr><th></th><th>Int64</th><th>String</th><th>String</th><th>String⍰</th><th>String</th><th>Float64</th></tr></thead><tbody><p>59,271 rows × 12 columns (omitted printing of 6 columns)</p><tr><th>1</th><td>1</td><td>Huskies</td><td>Huskies_G1</td><td>missing</td><td>1H</td><td>31.1747</td></tr><tr><th>2</th><td>1</td><td>Opponent1</td><td>Opponent1_D1</td><td>missing</td><td>1H</td><td>33.7303</td></tr><tr><th>3</th><td>1</td><td>Huskies</td><td>Huskies_F1</td><td>missing</td><td>1H</td><td>33.813</td></tr><tr><th>4</th><td>1</td><td>Opponent1</td><td>Opponent1_D2</td><td>missing</td><td>1H</td><td>42.611</td></tr><tr><th>5</th><td>1</td><td>Huskies</td><td>Huskies_D1</td><td>Huskies_F1</td><td>1H</td><td>46.3235</td></tr><tr><th>6</th><td>1</td><td>Huskies</td><td>Huskies_F1</td><td>missing</td><td>1H</td><td>47.0047</td></tr><tr><th>7</th><td>1</td><td>Opponent1</td><td>Opponent1_D1</td><td>missing</td><td>1H</td><td>47.2137</td></tr><tr><th>8</th><td>1</td><td>Opponent1</td><td>Opponent1_M1</td><td>missing</td><td>1H</td><td>48.4879</td></tr><tr><th>9</th><td>1</td><td>Huskies</td><td>Huskies_F1</td><td>missing</td><td>1H</td><td>49.881</td></tr><tr><th>10</th><td>1</td><td>Opponent1</td><td>Opponent1_D1</td><td>missing</td><td>1H</td><td>50.1094</td></tr><tr><th>11</th><td>1</td><td>Huskies</td><td>Huskies_M1</td><td>Huskies_F2</td><td>1H</td><td>51.0225</td></tr><tr><th>12</th><td>1</td><td>Huskies</td><td>Huskies_F2</td><td>missing</td><td>1H</td><td>51.6246</td></tr><tr><th>13</th><td>1</td><td>Opponent1</td><td>Opponent1_D2</td><td>missing</td><td>1H</td><td>62.2215</td></tr><tr><th>14</th><td>1</td><td>Huskies</td><td>Huskies_F1</td><td>missing</td><td>1H</td><td>85.9623</td></tr><tr><th>15</th><td>1</td><td>Opponent1</td><td>Opponent1_D2</td><td>Opponent1_G1</td><td>1H</td><td>89.0087</td></tr><tr><th>16</th><td>1</td><td>Opponent1</td><td>Opponent1_G1</td><td>Opponent1_F1</td><td>1H</td><td>92.2162</td></tr><tr><th>17</th><td>1</td><td>Opponent1</td><td>Opponent1_F1</td><td>missing</td><td>1H</td><td>95.9784</td></tr><tr><th>18</th><td>1</td><td>Huskies</td><td>Huskies_D2</td><td>missing</td><td>1H</td><td>96.9457</td></tr><tr><th>19</th><td>1</td><td>Huskies</td><td>Huskies_M2</td><td>Huskies_M3</td><td>1H</td><td>98.2652</td></tr><tr><th>20</th><td>1</td><td>Huskies</td><td>Huskies_M3</td><td>missing</td><td>1H</td><td>99.3986</td></tr><tr><th>21</th><td>1</td><td>Opponent1</td><td>Opponent1_M1</td><td>missing</td><td>1H</td><td>99.7598</td></tr><tr><th>22</th><td>1</td><td>Huskies</td><td>Huskies_D1</td><td>missing</td><td>1H</td><td>103.356</td></tr><tr><th>23</th><td>1</td><td>Opponent1</td><td>Opponent1_D1</td><td>missing</td><td>1H</td><td>105.004</td></tr><tr><th>24</th><td>1</td><td>Huskies</td><td>Huskies_F1</td><td>missing</td><td>1H</td><td>106.14</td></tr><tr><th>25</th><td>1</td><td>Opponent1</td><td>Opponent1_M1</td><td>missing</td><td>1H</td><td>107.848</td></tr><tr><th>26</th><td>1</td><td>Huskies</td><td>Huskies_F1</td><td>missing</td><td>1H</td><td>108.291</td></tr><tr><th>27</th><td>1</td><td>Opponent1</td><td>Opponent1_D1</td><td>Opponent1_F2</td><td>1H</td><td>109.026</td></tr><tr><th>28</th><td>1</td><td>Opponent1</td><td>Opponent1_F2</td><td>Opponent1_D2</td><td>1H</td><td>111.026</td></tr><tr><th>29</th><td>1</td><td>Opponent1</td><td>Opponent1_D2</td><td>Opponent1_M1</td><td>1H</td><td>112.856</td></tr><tr><th>30</th><td>1</td><td>Opponent1</td><td>Opponent1_M1</td><td>missing</td><td>1H</td><td>115.289</td></tr><tr><th>&vellip;</th><td>&vellip;</td><td>&vellip;</td><td>&vellip;</td><td>&vellip;</td><td>&vellip;</td><td>&vellip;</td></tr></tbody></table>"
      ],
      "text/latex": [
       "\\begin{tabular}{r|ccccccc}\n",
       "\t& MatchID & TeamID & OriginPlayerID & DestinationPlayerID & MatchPeriod & EventTime & \\\\\n",
       "\t\\hline\n",
       "\t& Int64 & String & String & String⍰ & String & Float64 & \\\\\n",
       "\t\\hline\n",
       "\t1 & 1 & Huskies & Huskies\\_G1 &  & 1H & 31.1747 & $\\dots$ \\\\\n",
       "\t2 & 1 & Opponent1 & Opponent1\\_D1 &  & 1H & 33.7303 & $\\dots$ \\\\\n",
       "\t3 & 1 & Huskies & Huskies\\_F1 &  & 1H & 33.813 & $\\dots$ \\\\\n",
       "\t4 & 1 & Opponent1 & Opponent1\\_D2 &  & 1H & 42.611 & $\\dots$ \\\\\n",
       "\t5 & 1 & Huskies & Huskies\\_D1 & Huskies\\_F1 & 1H & 46.3235 & $\\dots$ \\\\\n",
       "\t6 & 1 & Huskies & Huskies\\_F1 &  & 1H & 47.0047 & $\\dots$ \\\\\n",
       "\t7 & 1 & Opponent1 & Opponent1\\_D1 &  & 1H & 47.2137 & $\\dots$ \\\\\n",
       "\t8 & 1 & Opponent1 & Opponent1\\_M1 &  & 1H & 48.4879 & $\\dots$ \\\\\n",
       "\t9 & 1 & Huskies & Huskies\\_F1 &  & 1H & 49.881 & $\\dots$ \\\\\n",
       "\t10 & 1 & Opponent1 & Opponent1\\_D1 &  & 1H & 50.1094 & $\\dots$ \\\\\n",
       "\t11 & 1 & Huskies & Huskies\\_M1 & Huskies\\_F2 & 1H & 51.0225 & $\\dots$ \\\\\n",
       "\t12 & 1 & Huskies & Huskies\\_F2 &  & 1H & 51.6246 & $\\dots$ \\\\\n",
       "\t13 & 1 & Opponent1 & Opponent1\\_D2 &  & 1H & 62.2215 & $\\dots$ \\\\\n",
       "\t14 & 1 & Huskies & Huskies\\_F1 &  & 1H & 85.9623 & $\\dots$ \\\\\n",
       "\t15 & 1 & Opponent1 & Opponent1\\_D2 & Opponent1\\_G1 & 1H & 89.0087 & $\\dots$ \\\\\n",
       "\t16 & 1 & Opponent1 & Opponent1\\_G1 & Opponent1\\_F1 & 1H & 92.2162 & $\\dots$ \\\\\n",
       "\t17 & 1 & Opponent1 & Opponent1\\_F1 &  & 1H & 95.9784 & $\\dots$ \\\\\n",
       "\t18 & 1 & Huskies & Huskies\\_D2 &  & 1H & 96.9457 & $\\dots$ \\\\\n",
       "\t19 & 1 & Huskies & Huskies\\_M2 & Huskies\\_M3 & 1H & 98.2652 & $\\dots$ \\\\\n",
       "\t20 & 1 & Huskies & Huskies\\_M3 &  & 1H & 99.3986 & $\\dots$ \\\\\n",
       "\t21 & 1 & Opponent1 & Opponent1\\_M1 &  & 1H & 99.7598 & $\\dots$ \\\\\n",
       "\t22 & 1 & Huskies & Huskies\\_D1 &  & 1H & 103.356 & $\\dots$ \\\\\n",
       "\t23 & 1 & Opponent1 & Opponent1\\_D1 &  & 1H & 105.004 & $\\dots$ \\\\\n",
       "\t24 & 1 & Huskies & Huskies\\_F1 &  & 1H & 106.14 & $\\dots$ \\\\\n",
       "\t25 & 1 & Opponent1 & Opponent1\\_M1 &  & 1H & 107.848 & $\\dots$ \\\\\n",
       "\t26 & 1 & Huskies & Huskies\\_F1 &  & 1H & 108.291 & $\\dots$ \\\\\n",
       "\t27 & 1 & Opponent1 & Opponent1\\_D1 & Opponent1\\_F2 & 1H & 109.026 & $\\dots$ \\\\\n",
       "\t28 & 1 & Opponent1 & Opponent1\\_F2 & Opponent1\\_D2 & 1H & 111.026 & $\\dots$ \\\\\n",
       "\t29 & 1 & Opponent1 & Opponent1\\_D2 & Opponent1\\_M1 & 1H & 112.856 & $\\dots$ \\\\\n",
       "\t30 & 1 & Opponent1 & Opponent1\\_M1 &  & 1H & 115.289 & $\\dots$ \\\\\n",
       "\t$\\dots$ & $\\dots$ & $\\dots$ & $\\dots$ & $\\dots$ & $\\dots$ & $\\dots$ &  \\\\\n",
       "\\end{tabular}\n"
      ],
      "text/plain": [
       "59271×12 DataFrame. Omitted printing of 8 columns\n",
       "│ Row   │ MatchID │ TeamID     │ OriginPlayerID │ DestinationPlayerID │\n",
       "│       │ \u001b[90mInt64\u001b[39m   │ \u001b[90mString\u001b[39m     │ \u001b[90mString\u001b[39m         │ \u001b[90mString⍰\u001b[39m             │\n",
       "├───────┼─────────┼────────────┼────────────────┼─────────────────────┤\n",
       "│ 1     │ 1       │ Huskies    │ Huskies_G1     │ \u001b[90mmissing\u001b[39m             │\n",
       "│ 2     │ 1       │ Opponent1  │ Opponent1_D1   │ \u001b[90mmissing\u001b[39m             │\n",
       "│ 3     │ 1       │ Huskies    │ Huskies_F1     │ \u001b[90mmissing\u001b[39m             │\n",
       "│ 4     │ 1       │ Opponent1  │ Opponent1_D2   │ \u001b[90mmissing\u001b[39m             │\n",
       "│ 5     │ 1       │ Huskies    │ Huskies_D1     │ Huskies_F1          │\n",
       "│ 6     │ 1       │ Huskies    │ Huskies_F1     │ \u001b[90mmissing\u001b[39m             │\n",
       "│ 7     │ 1       │ Opponent1  │ Opponent1_D1   │ \u001b[90mmissing\u001b[39m             │\n",
       "│ 8     │ 1       │ Opponent1  │ Opponent1_M1   │ \u001b[90mmissing\u001b[39m             │\n",
       "│ 9     │ 1       │ Huskies    │ Huskies_F1     │ \u001b[90mmissing\u001b[39m             │\n",
       "│ 10    │ 1       │ Opponent1  │ Opponent1_D1   │ \u001b[90mmissing\u001b[39m             │\n",
       "⋮\n",
       "│ 59261 │ 38      │ Huskies    │ Huskies_M2     │ \u001b[90mmissing\u001b[39m             │\n",
       "│ 59262 │ 38      │ Opponent14 │ Opponent14_M4  │ \u001b[90mmissing\u001b[39m             │\n",
       "│ 59263 │ 38      │ Huskies    │ Huskies_M2     │ \u001b[90mmissing\u001b[39m             │\n",
       "│ 59264 │ 38      │ Opponent14 │ Opponent14_M4  │ Opponent14_M2       │\n",
       "│ 59265 │ 38      │ Opponent14 │ Opponent14_M2  │ Opponent14_F1       │\n",
       "│ 59266 │ 38      │ Opponent14 │ Opponent14_F1  │ \u001b[90mmissing\u001b[39m             │\n",
       "│ 59267 │ 38      │ Huskies    │ Huskies_D4     │ \u001b[90mmissing\u001b[39m             │\n",
       "│ 59268 │ 38      │ Opponent14 │ Opponent14_M5  │ \u001b[90mmissing\u001b[39m             │\n",
       "│ 59269 │ 38      │ Huskies    │ Huskies_D1     │ \u001b[90mmissing\u001b[39m             │\n",
       "│ 59270 │ 38      │ Opponent14 │ Opponent14_D7  │ \u001b[90mmissing\u001b[39m             │\n",
       "│ 59271 │ 38      │ Opponent14 │ Opponent14_D7  │ \u001b[90mmissing\u001b[39m             │"
      ]
     },
     "execution_count": 6,
     "metadata": {},
     "output_type": "execute_result"
    }
   ],
   "source": [
    "df = DataFrame(CSV.File(\"data/fullevents.csv\"))"
   ]
  },
  {
   "cell_type": "code",
   "execution_count": 17,
   "metadata": {},
   "outputs": [
    {
     "name": "stderr",
     "output_type": "stream",
     "text": [
      "┌ Warning: `getindex(df::DataFrame, col_ind::ColumnIndex)` is deprecated, use `df[!, col_ind]` instead.\n",
      "│   caller = top-level scope at In[17]:1\n",
      "└ @ Core In[17]:1\n"
     ]
    },
    {
     "data": {
      "text/plain": [
       "59271-element Array{Int64,1}:\n",
       "  1\n",
       "  1\n",
       "  1\n",
       "  1\n",
       "  1\n",
       "  1\n",
       "  1\n",
       "  1\n",
       "  1\n",
       "  1\n",
       "  1\n",
       "  1\n",
       "  1\n",
       "  ⋮\n",
       " 38\n",
       " 38\n",
       " 38\n",
       " 38\n",
       " 38\n",
       " 38\n",
       " 38\n",
       " 38\n",
       " 38\n",
       " 38\n",
       " 38\n",
       " 38"
      ]
     },
     "execution_count": 17,
     "metadata": {},
     "output_type": "execute_result"
    }
   ],
   "source": [
    "df[:MatchID]"
   ]
  },
  {
   "cell_type": "code",
   "execution_count": null,
   "metadata": {},
   "outputs": [],
   "source": []
  }
 ],
 "metadata": {
  "kernelspec": {
   "display_name": "Julia 1.3.1",
   "language": "julia",
   "name": "julia-1.3"
  },
  "language_info": {
   "file_extension": ".jl",
   "mimetype": "application/julia",
   "name": "julia",
   "version": "1.3.1"
  }
 },
 "nbformat": 4,
 "nbformat_minor": 4
}
