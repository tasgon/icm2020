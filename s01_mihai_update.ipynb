{
 "cells": [
  {
   "cell_type": "code",
   "execution_count": 6,
   "metadata": {},
   "outputs": [
    {
     "data": {
      "text/html": [
       "\n",
       "    <div class=\"bk-root\">\n",
       "        <a href=\"https://bokeh.org\" target=\"_blank\" class=\"bk-logo bk-logo-small bk-logo-notebook\"></a>\n",
       "        <span id=\"1002\">Loading BokehJS ...</span>\n",
       "    </div>"
      ]
     },
     "metadata": {},
     "output_type": "display_data"
    },
    {
     "data": {
      "application/javascript": [
       "\n",
       "(function(root) {\n",
       "  function now() {\n",
       "    return new Date();\n",
       "  }\n",
       "\n",
       "  var force = true;\n",
       "\n",
       "  if (typeof root._bokeh_onload_callbacks === \"undefined\" || force === true) {\n",
       "    root._bokeh_onload_callbacks = [];\n",
       "    root._bokeh_is_loading = undefined;\n",
       "  }\n",
       "\n",
       "  var JS_MIME_TYPE = 'application/javascript';\n",
       "  var HTML_MIME_TYPE = 'text/html';\n",
       "  var EXEC_MIME_TYPE = 'application/vnd.bokehjs_exec.v0+json';\n",
       "  var CLASS_NAME = 'output_bokeh rendered_html';\n",
       "\n",
       "  /**\n",
       "   * Render data to the DOM node\n",
       "   */\n",
       "  function render(props, node) {\n",
       "    var script = document.createElement(\"script\");\n",
       "    node.appendChild(script);\n",
       "  }\n",
       "\n",
       "  /**\n",
       "   * Handle when an output is cleared or removed\n",
       "   */\n",
       "  function handleClearOutput(event, handle) {\n",
       "    var cell = handle.cell;\n",
       "\n",
       "    var id = cell.output_area._bokeh_element_id;\n",
       "    var server_id = cell.output_area._bokeh_server_id;\n",
       "    // Clean up Bokeh references\n",
       "    if (id != null && id in Bokeh.index) {\n",
       "      Bokeh.index[id].model.document.clear();\n",
       "      delete Bokeh.index[id];\n",
       "    }\n",
       "\n",
       "    if (server_id !== undefined) {\n",
       "      // Clean up Bokeh references\n",
       "      var cmd = \"from bokeh.io.state import curstate; print(curstate().uuid_to_server['\" + server_id + \"'].get_sessions()[0].document.roots[0]._id)\";\n",
       "      cell.notebook.kernel.execute(cmd, {\n",
       "        iopub: {\n",
       "          output: function(msg) {\n",
       "            var id = msg.content.text.trim();\n",
       "            if (id in Bokeh.index) {\n",
       "              Bokeh.index[id].model.document.clear();\n",
       "              delete Bokeh.index[id];\n",
       "            }\n",
       "          }\n",
       "        }\n",
       "      });\n",
       "      // Destroy server and session\n",
       "      var cmd = \"import bokeh.io.notebook as ion; ion.destroy_server('\" + server_id + \"')\";\n",
       "      cell.notebook.kernel.execute(cmd);\n",
       "    }\n",
       "  }\n",
       "\n",
       "  /**\n",
       "   * Handle when a new output is added\n",
       "   */\n",
       "  function handleAddOutput(event, handle) {\n",
       "    var output_area = handle.output_area;\n",
       "    var output = handle.output;\n",
       "\n",
       "    // limit handleAddOutput to display_data with EXEC_MIME_TYPE content only\n",
       "    if ((output.output_type != \"display_data\") || (!output.data.hasOwnProperty(EXEC_MIME_TYPE))) {\n",
       "      return\n",
       "    }\n",
       "\n",
       "    var toinsert = output_area.element.find(\".\" + CLASS_NAME.split(' ')[0]);\n",
       "\n",
       "    if (output.metadata[EXEC_MIME_TYPE][\"id\"] !== undefined) {\n",
       "      toinsert[toinsert.length - 1].firstChild.textContent = output.data[JS_MIME_TYPE];\n",
       "      // store reference to embed id on output_area\n",
       "      output_area._bokeh_element_id = output.metadata[EXEC_MIME_TYPE][\"id\"];\n",
       "    }\n",
       "    if (output.metadata[EXEC_MIME_TYPE][\"server_id\"] !== undefined) {\n",
       "      var bk_div = document.createElement(\"div\");\n",
       "      bk_div.innerHTML = output.data[HTML_MIME_TYPE];\n",
       "      var script_attrs = bk_div.children[0].attributes;\n",
       "      for (var i = 0; i < script_attrs.length; i++) {\n",
       "        toinsert[toinsert.length - 1].firstChild.setAttribute(script_attrs[i].name, script_attrs[i].value);\n",
       "      }\n",
       "      // store reference to server id on output_area\n",
       "      output_area._bokeh_server_id = output.metadata[EXEC_MIME_TYPE][\"server_id\"];\n",
       "    }\n",
       "  }\n",
       "\n",
       "  function register_renderer(events, OutputArea) {\n",
       "\n",
       "    function append_mime(data, metadata, element) {\n",
       "      // create a DOM node to render to\n",
       "      var toinsert = this.create_output_subarea(\n",
       "        metadata,\n",
       "        CLASS_NAME,\n",
       "        EXEC_MIME_TYPE\n",
       "      );\n",
       "      this.keyboard_manager.register_events(toinsert);\n",
       "      // Render to node\n",
       "      var props = {data: data, metadata: metadata[EXEC_MIME_TYPE]};\n",
       "      render(props, toinsert[toinsert.length - 1]);\n",
       "      element.append(toinsert);\n",
       "      return toinsert\n",
       "    }\n",
       "\n",
       "    /* Handle when an output is cleared or removed */\n",
       "    events.on('clear_output.CodeCell', handleClearOutput);\n",
       "    events.on('delete.Cell', handleClearOutput);\n",
       "\n",
       "    /* Handle when a new output is added */\n",
       "    events.on('output_added.OutputArea', handleAddOutput);\n",
       "\n",
       "    /**\n",
       "     * Register the mime type and append_mime function with output_area\n",
       "     */\n",
       "    OutputArea.prototype.register_mime_type(EXEC_MIME_TYPE, append_mime, {\n",
       "      /* Is output safe? */\n",
       "      safe: true,\n",
       "      /* Index of renderer in `output_area.display_order` */\n",
       "      index: 0\n",
       "    });\n",
       "  }\n",
       "\n",
       "  // register the mime type if in Jupyter Notebook environment and previously unregistered\n",
       "  if (root.Jupyter !== undefined) {\n",
       "    var events = require('base/js/events');\n",
       "    var OutputArea = require('notebook/js/outputarea').OutputArea;\n",
       "\n",
       "    if (OutputArea.prototype.mime_types().indexOf(EXEC_MIME_TYPE) == -1) {\n",
       "      register_renderer(events, OutputArea);\n",
       "    }\n",
       "  }\n",
       "\n",
       "  \n",
       "  if (typeof (root._bokeh_timeout) === \"undefined\" || force === true) {\n",
       "    root._bokeh_timeout = Date.now() + 5000;\n",
       "    root._bokeh_failed_load = false;\n",
       "  }\n",
       "\n",
       "  var NB_LOAD_WARNING = {'data': {'text/html':\n",
       "     \"<div style='background-color: #fdd'>\\n\"+\n",
       "     \"<p>\\n\"+\n",
       "     \"BokehJS does not appear to have successfully loaded. If loading BokehJS from CDN, this \\n\"+\n",
       "     \"may be due to a slow or bad network connection. Possible fixes:\\n\"+\n",
       "     \"</p>\\n\"+\n",
       "     \"<ul>\\n\"+\n",
       "     \"<li>re-rerun `output_notebook()` to attempt to load from CDN again, or</li>\\n\"+\n",
       "     \"<li>use INLINE resources instead, as so:</li>\\n\"+\n",
       "     \"</ul>\\n\"+\n",
       "     \"<code>\\n\"+\n",
       "     \"from bokeh.resources import INLINE\\n\"+\n",
       "     \"output_notebook(resources=INLINE)\\n\"+\n",
       "     \"</code>\\n\"+\n",
       "     \"</div>\"}};\n",
       "\n",
       "  function display_loaded() {\n",
       "    var el = document.getElementById(\"1002\");\n",
       "    if (el != null) {\n",
       "      el.textContent = \"BokehJS is loading...\";\n",
       "    }\n",
       "    if (root.Bokeh !== undefined) {\n",
       "      if (el != null) {\n",
       "        el.textContent = \"BokehJS \" + root.Bokeh.version + \" successfully loaded.\";\n",
       "      }\n",
       "    } else if (Date.now() < root._bokeh_timeout) {\n",
       "      setTimeout(display_loaded, 100)\n",
       "    }\n",
       "  }\n",
       "\n",
       "\n",
       "  function run_callbacks() {\n",
       "    try {\n",
       "      root._bokeh_onload_callbacks.forEach(function(callback) {\n",
       "        if (callback != null)\n",
       "          callback();\n",
       "      });\n",
       "    } finally {\n",
       "      delete root._bokeh_onload_callbacks\n",
       "    }\n",
       "    console.debug(\"Bokeh: all callbacks have finished\");\n",
       "  }\n",
       "\n",
       "  function load_libs(css_urls, js_urls, callback) {\n",
       "    if (css_urls == null) css_urls = [];\n",
       "    if (js_urls == null) js_urls = [];\n",
       "\n",
       "    root._bokeh_onload_callbacks.push(callback);\n",
       "    if (root._bokeh_is_loading > 0) {\n",
       "      console.debug(\"Bokeh: BokehJS is being loaded, scheduling callback at\", now());\n",
       "      return null;\n",
       "    }\n",
       "    if (js_urls == null || js_urls.length === 0) {\n",
       "      run_callbacks();\n",
       "      return null;\n",
       "    }\n",
       "    console.debug(\"Bokeh: BokehJS not loaded, scheduling load and callback at\", now());\n",
       "    root._bokeh_is_loading = css_urls.length + js_urls.length;\n",
       "\n",
       "    function on_load() {\n",
       "      root._bokeh_is_loading--;\n",
       "      if (root._bokeh_is_loading === 0) {\n",
       "        console.debug(\"Bokeh: all BokehJS libraries/stylesheets loaded\");\n",
       "        run_callbacks()\n",
       "      }\n",
       "    }\n",
       "\n",
       "    function on_error() {\n",
       "      console.error(\"failed to load \" + url);\n",
       "    }\n",
       "\n",
       "    for (var i = 0; i < css_urls.length; i++) {\n",
       "      var url = css_urls[i];\n",
       "      const element = document.createElement(\"link\");\n",
       "      element.onload = on_load;\n",
       "      element.onerror = on_error;\n",
       "      element.rel = \"stylesheet\";\n",
       "      element.type = \"text/css\";\n",
       "      element.href = url;\n",
       "      console.debug(\"Bokeh: injecting link tag for BokehJS stylesheet: \", url);\n",
       "      document.body.appendChild(element);\n",
       "    }\n",
       "\n",
       "    for (var i = 0; i < js_urls.length; i++) {\n",
       "      var url = js_urls[i];\n",
       "      var element = document.createElement('script');\n",
       "      element.onload = on_load;\n",
       "      element.onerror = on_error;\n",
       "      element.async = false;\n",
       "      element.src = url;\n",
       "      console.debug(\"Bokeh: injecting script tag for BokehJS library: \", url);\n",
       "      document.head.appendChild(element);\n",
       "    }\n",
       "  };var element = document.getElementById(\"1002\");\n",
       "  if (element == null) {\n",
       "    console.error(\"Bokeh: ERROR: autoload.js configured with elementid '1002' but no matching script tag was found. \")\n",
       "    return false;\n",
       "  }\n",
       "\n",
       "  function inject_raw_css(css) {\n",
       "    const element = document.createElement(\"style\");\n",
       "    element.appendChild(document.createTextNode(css));\n",
       "    document.body.appendChild(element);\n",
       "  }\n",
       "\n",
       "  \n",
       "  var js_urls = [\"https://cdn.pydata.org/bokeh/release/bokeh-1.4.0.min.js\", \"https://cdn.pydata.org/bokeh/release/bokeh-widgets-1.4.0.min.js\", \"https://cdn.pydata.org/bokeh/release/bokeh-tables-1.4.0.min.js\", \"https://cdn.pydata.org/bokeh/release/bokeh-gl-1.4.0.min.js\"];\n",
       "  var css_urls = [];\n",
       "  \n",
       "\n",
       "  var inline_js = [\n",
       "    function(Bokeh) {\n",
       "      Bokeh.set_log_level(\"info\");\n",
       "    },\n",
       "    function(Bokeh) {\n",
       "    \n",
       "    \n",
       "    }\n",
       "  ];\n",
       "\n",
       "  function run_inline_js() {\n",
       "    \n",
       "    if (root.Bokeh !== undefined || force === true) {\n",
       "      \n",
       "    for (var i = 0; i < inline_js.length; i++) {\n",
       "      inline_js[i].call(root, root.Bokeh);\n",
       "    }\n",
       "    if (force === true) {\n",
       "        display_loaded();\n",
       "      }} else if (Date.now() < root._bokeh_timeout) {\n",
       "      setTimeout(run_inline_js, 100);\n",
       "    } else if (!root._bokeh_failed_load) {\n",
       "      console.log(\"Bokeh: BokehJS failed to load within specified timeout.\");\n",
       "      root._bokeh_failed_load = true;\n",
       "    } else if (force !== true) {\n",
       "      var cell = $(document.getElementById(\"1002\")).parents('.cell').data().cell;\n",
       "      cell.output_area.append_execute_result(NB_LOAD_WARNING)\n",
       "    }\n",
       "\n",
       "  }\n",
       "\n",
       "  if (root._bokeh_is_loading === 0) {\n",
       "    console.debug(\"Bokeh: BokehJS loaded, going straight to plotting\");\n",
       "    run_inline_js();\n",
       "  } else {\n",
       "    load_libs(css_urls, js_urls, function() {\n",
       "      console.debug(\"Bokeh: BokehJS plotting callback run at\", now());\n",
       "      run_inline_js();\n",
       "    });\n",
       "  }\n",
       "}(window));"
      ],
      "application/vnd.bokehjs_load.v0+json": "\n(function(root) {\n  function now() {\n    return new Date();\n  }\n\n  var force = true;\n\n  if (typeof root._bokeh_onload_callbacks === \"undefined\" || force === true) {\n    root._bokeh_onload_callbacks = [];\n    root._bokeh_is_loading = undefined;\n  }\n\n  \n\n  \n  if (typeof (root._bokeh_timeout) === \"undefined\" || force === true) {\n    root._bokeh_timeout = Date.now() + 5000;\n    root._bokeh_failed_load = false;\n  }\n\n  var NB_LOAD_WARNING = {'data': {'text/html':\n     \"<div style='background-color: #fdd'>\\n\"+\n     \"<p>\\n\"+\n     \"BokehJS does not appear to have successfully loaded. If loading BokehJS from CDN, this \\n\"+\n     \"may be due to a slow or bad network connection. Possible fixes:\\n\"+\n     \"</p>\\n\"+\n     \"<ul>\\n\"+\n     \"<li>re-rerun `output_notebook()` to attempt to load from CDN again, or</li>\\n\"+\n     \"<li>use INLINE resources instead, as so:</li>\\n\"+\n     \"</ul>\\n\"+\n     \"<code>\\n\"+\n     \"from bokeh.resources import INLINE\\n\"+\n     \"output_notebook(resources=INLINE)\\n\"+\n     \"</code>\\n\"+\n     \"</div>\"}};\n\n  function display_loaded() {\n    var el = document.getElementById(\"1002\");\n    if (el != null) {\n      el.textContent = \"BokehJS is loading...\";\n    }\n    if (root.Bokeh !== undefined) {\n      if (el != null) {\n        el.textContent = \"BokehJS \" + root.Bokeh.version + \" successfully loaded.\";\n      }\n    } else if (Date.now() < root._bokeh_timeout) {\n      setTimeout(display_loaded, 100)\n    }\n  }\n\n\n  function run_callbacks() {\n    try {\n      root._bokeh_onload_callbacks.forEach(function(callback) {\n        if (callback != null)\n          callback();\n      });\n    } finally {\n      delete root._bokeh_onload_callbacks\n    }\n    console.debug(\"Bokeh: all callbacks have finished\");\n  }\n\n  function load_libs(css_urls, js_urls, callback) {\n    if (css_urls == null) css_urls = [];\n    if (js_urls == null) js_urls = [];\n\n    root._bokeh_onload_callbacks.push(callback);\n    if (root._bokeh_is_loading > 0) {\n      console.debug(\"Bokeh: BokehJS is being loaded, scheduling callback at\", now());\n      return null;\n    }\n    if (js_urls == null || js_urls.length === 0) {\n      run_callbacks();\n      return null;\n    }\n    console.debug(\"Bokeh: BokehJS not loaded, scheduling load and callback at\", now());\n    root._bokeh_is_loading = css_urls.length + js_urls.length;\n\n    function on_load() {\n      root._bokeh_is_loading--;\n      if (root._bokeh_is_loading === 0) {\n        console.debug(\"Bokeh: all BokehJS libraries/stylesheets loaded\");\n        run_callbacks()\n      }\n    }\n\n    function on_error() {\n      console.error(\"failed to load \" + url);\n    }\n\n    for (var i = 0; i < css_urls.length; i++) {\n      var url = css_urls[i];\n      const element = document.createElement(\"link\");\n      element.onload = on_load;\n      element.onerror = on_error;\n      element.rel = \"stylesheet\";\n      element.type = \"text/css\";\n      element.href = url;\n      console.debug(\"Bokeh: injecting link tag for BokehJS stylesheet: \", url);\n      document.body.appendChild(element);\n    }\n\n    for (var i = 0; i < js_urls.length; i++) {\n      var url = js_urls[i];\n      var element = document.createElement('script');\n      element.onload = on_load;\n      element.onerror = on_error;\n      element.async = false;\n      element.src = url;\n      console.debug(\"Bokeh: injecting script tag for BokehJS library: \", url);\n      document.head.appendChild(element);\n    }\n  };var element = document.getElementById(\"1002\");\n  if (element == null) {\n    console.error(\"Bokeh: ERROR: autoload.js configured with elementid '1002' but no matching script tag was found. \")\n    return false;\n  }\n\n  function inject_raw_css(css) {\n    const element = document.createElement(\"style\");\n    element.appendChild(document.createTextNode(css));\n    document.body.appendChild(element);\n  }\n\n  \n  var js_urls = [\"https://cdn.pydata.org/bokeh/release/bokeh-1.4.0.min.js\", \"https://cdn.pydata.org/bokeh/release/bokeh-widgets-1.4.0.min.js\", \"https://cdn.pydata.org/bokeh/release/bokeh-tables-1.4.0.min.js\", \"https://cdn.pydata.org/bokeh/release/bokeh-gl-1.4.0.min.js\"];\n  var css_urls = [];\n  \n\n  var inline_js = [\n    function(Bokeh) {\n      Bokeh.set_log_level(\"info\");\n    },\n    function(Bokeh) {\n    \n    \n    }\n  ];\n\n  function run_inline_js() {\n    \n    if (root.Bokeh !== undefined || force === true) {\n      \n    for (var i = 0; i < inline_js.length; i++) {\n      inline_js[i].call(root, root.Bokeh);\n    }\n    if (force === true) {\n        display_loaded();\n      }} else if (Date.now() < root._bokeh_timeout) {\n      setTimeout(run_inline_js, 100);\n    } else if (!root._bokeh_failed_load) {\n      console.log(\"Bokeh: BokehJS failed to load within specified timeout.\");\n      root._bokeh_failed_load = true;\n    } else if (force !== true) {\n      var cell = $(document.getElementById(\"1002\")).parents('.cell').data().cell;\n      cell.output_area.append_execute_result(NB_LOAD_WARNING)\n    }\n\n  }\n\n  if (root._bokeh_is_loading === 0) {\n    console.debug(\"Bokeh: BokehJS loaded, going straight to plotting\");\n    run_inline_js();\n  } else {\n    load_libs(css_urls, js_urls, function() {\n      console.debug(\"Bokeh: BokehJS plotting callback run at\", now());\n      run_inline_js();\n    });\n  }\n}(window));"
     },
     "metadata": {},
     "output_type": "display_data"
    }
   ],
   "source": [
    "import bokeh.io\n",
    "import pandas as pd\n",
    "import numpy as np\n",
    "import networkx as nx\n",
    "import matplotlib.pyplot as plt\n",
    "\n",
    "from bokeh.io import show\n",
    "from bokeh.plotting import Figure\n",
    "from bokeh.models import Plot, Range1d, MultiLine, Line, Circle, HoverTool, BoxZoomTool, ResetTool, PanTool, WheelZoomTool, ColumnDataSource, Legend, LegendItem\n",
    "from bokeh.models.graphs import from_networkx\n",
    "from bokeh.palettes import Spectral4, Set3, Set3_12\n",
    "\n",
    "bokeh.io.output_notebook()"
   ]
  },
  {
   "cell_type": "code",
   "execution_count": 89,
   "metadata": {},
   "outputs": [],
   "source": [
    "df = pd.read_csv(\"data/fullevents.csv\")\n",
    "\n",
    "players = np.unique(df[\"DestinationPlayerID\"][~pd.isnull(df.DestinationPlayerID)])\n",
    "\n",
    "wins = [1,6,11,14,15,17,18,25,27,30,31,35,36]\n",
    "ties = [2,8,12,16,19,20,24,33,34,37]\n",
    "losses = [3,4,5,7,9,10,13,21,22,23,26,28,29,32,38]\n",
    "\n",
    "events = ['Free Kick', 'Duel', 'Pass', 'Others on the ball', 'Foul', 'Goalkeeper leaving line', 'Offside', 'Save attempt', 'Shot', 'Substitution', 'Interruption']\n",
    "event_colors = {events[i] : Set3_12[i] for i in range(len(events))}"
   ]
  },
  {
   "cell_type": "code",
   "execution_count": 63,
   "metadata": {},
   "outputs": [],
   "source": [
    "g = nx.Graph()\n",
    "#g.add_nodes_from(players)\n",
    "\n",
    "for i in players:\n",
    "    #colors of nodes can be changed here\n",
    "    if 'Husk' in i:\n",
    "        c = Spectral4[1]\n",
    "    else: c = Spectral4[0]\n",
    "    \n",
    "    if 'Husk' in i:\n",
    "        g.add_node(i, color=c)"
   ]
  },
  {
   "cell_type": "code",
   "execution_count": 71,
   "metadata": {},
   "outputs": [],
   "source": [
    "color_list = df.EventType.map(event_colors)\n",
    "\n",
    "for index, row in df[df.EventType=='Pass'].iterrows():\n",
    "    if not pd.isnull(row.DestinationPlayerID) and ('Husk' in row.DestinationPlayerID):\n",
    "        g.add_edge(row.OriginPlayerID, row.DestinationPlayerID, edge_color=color_list[index])"
   ]
  },
  {
   "cell_type": "code",
   "execution_count": 72,
   "metadata": {},
   "outputs": [
    {
     "data": {
      "text/html": [
       "\n",
       "\n",
       "\n",
       "\n",
       "\n",
       "\n",
       "  <div class=\"bk-root\" id=\"7a5127de-3fa2-4173-a942-d03a3473cf5d\" data-root-id=\"13927\"></div>\n"
      ]
     },
     "metadata": {},
     "output_type": "display_data"
    },
    {
     "data": {
      "application/javascript": [
       "(function(root) {\n",
       "  function embed_document(root) {\n",
       "    \n",
       "  var docs_json = {\"7af4dcc8-2cd2-4611-846b-b2738d1c8a56\":{\"roots\":{\"references\":[{\"attributes\":{\"below\":[{\"id\":\"13934\",\"type\":\"LinearAxis\"}],\"center\":[{\"id\":\"13938\",\"type\":\"Grid\"},{\"id\":\"13943\",\"type\":\"Grid\"}],\"left\":[{\"id\":\"13939\",\"type\":\"LinearAxis\"}],\"plot_width\":800,\"renderers\":[{\"id\":\"13962\",\"type\":\"GraphRenderer\"}],\"title\":{\"id\":\"13957\",\"type\":\"Title\"},\"toolbar\":{\"id\":\"13950\",\"type\":\"Toolbar\"},\"x_range\":{\"id\":\"13925\",\"type\":\"Range1d\"},\"x_scale\":{\"id\":\"13930\",\"type\":\"LinearScale\"},\"y_range\":{\"id\":\"13926\",\"type\":\"Range1d\"},\"y_scale\":{\"id\":\"13932\",\"type\":\"LinearScale\"}},\"id\":\"13927\",\"subtype\":\"Figure\",\"type\":\"Plot\"},{\"attributes\":{\"source\":{\"id\":\"13964\",\"type\":\"ColumnDataSource\"}},\"id\":\"13966\",\"type\":\"CDSView\"},{\"attributes\":{},\"id\":\"14523\",\"type\":\"Selection\"},{\"attributes\":{\"text\":\"Passes Among Huskies Players\"},\"id\":\"13957\",\"type\":\"Title\"},{\"attributes\":{},\"id\":\"14521\",\"type\":\"Selection\"},{\"attributes\":{\"callback\":null,\"end\":1.1,\"start\":-1.1},\"id\":\"13925\",\"type\":\"Range1d\"},{\"attributes\":{\"active_drag\":\"auto\",\"active_inspect\":\"auto\",\"active_multi\":null,\"active_scroll\":\"auto\",\"active_tap\":\"auto\",\"tools\":[{\"id\":\"13944\",\"type\":\"PanTool\"},{\"id\":\"13945\",\"type\":\"WheelZoomTool\"},{\"id\":\"13946\",\"type\":\"BoxZoomTool\"},{\"id\":\"13947\",\"type\":\"SaveTool\"},{\"id\":\"13948\",\"type\":\"ResetTool\"},{\"id\":\"13949\",\"type\":\"HelpTool\"},{\"id\":\"13958\",\"type\":\"HoverTool\"}]},\"id\":\"13950\",\"type\":\"Toolbar\"},{\"attributes\":{\"formatter\":{\"id\":\"14507\",\"type\":\"BasicTickFormatter\"},\"ticker\":{\"id\":\"13935\",\"type\":\"BasicTicker\"}},\"id\":\"13934\",\"type\":\"LinearAxis\"},{\"attributes\":{\"callback\":null,\"end\":1.1,\"start\":-1.1},\"id\":\"13926\",\"type\":\"Range1d\"},{\"attributes\":{\"callback\":null,\"data\":{\"color\":[\"#abdda4\",\"#abdda4\",\"#abdda4\",\"#abdda4\",\"#abdda4\",\"#abdda4\",\"#abdda4\",\"#abdda4\",\"#abdda4\",\"#abdda4\",\"#abdda4\",\"#abdda4\",\"#abdda4\",\"#abdda4\",\"#abdda4\",\"#abdda4\",\"#abdda4\",\"#abdda4\",\"#abdda4\",\"#abdda4\",\"#abdda4\",\"#abdda4\",\"#abdda4\",\"#abdda4\",\"#abdda4\",\"#abdda4\",\"#abdda4\",\"#abdda4\",\"#abdda4\",\"#abdda4\",null,null,null,null,null,null],\"index\":[\"Huskies_D1\",\"Huskies_D10\",\"Huskies_D2\",\"Huskies_D3\",\"Huskies_D4\",\"Huskies_D5\",\"Huskies_D6\",\"Huskies_D7\",\"Huskies_D8\",\"Huskies_D9\",\"Huskies_F1\",\"Huskies_F2\",\"Huskies_F3\",\"Huskies_F4\",\"Huskies_F5\",\"Huskies_F6\",\"Huskies_G1\",\"Huskies_M1\",\"Huskies_M10\",\"Huskies_M11\",\"Huskies_M12\",\"Huskies_M13\",\"Huskies_M2\",\"Huskies_M3\",\"Huskies_M4\",\"Huskies_M5\",\"Huskies_M6\",\"Huskies_M7\",\"Huskies_M8\",\"Huskies_M9\",\"Opponent7_D3\",\"Opponent7_D4\",\"Opponent7_M2\",\"Opponent7_F1\",\"Opponent7_F2\",\"Opponent7_D2\"]},\"selected\":{\"id\":\"14523\",\"type\":\"Selection\"},\"selection_policy\":{\"id\":\"14524\",\"type\":\"UnionRenderers\"}},\"id\":\"13964\",\"type\":\"ColumnDataSource\"},{\"attributes\":{},\"id\":\"13930\",\"type\":\"LinearScale\"},{\"attributes\":{\"overlay\":{\"id\":\"14520\",\"type\":\"BoxAnnotation\"}},\"id\":\"13946\",\"type\":\"BoxZoomTool\"},{\"attributes\":{\"line_alpha\":{\"value\":0.8},\"line_color\":{\"field\":\"edge_color\"},\"line_width\":{\"value\":2}},\"id\":\"13977\",\"type\":\"MultiLine\"},{\"attributes\":{},\"id\":\"14522\",\"type\":\"UnionRenderers\"},{\"attributes\":{},\"id\":\"14507\",\"type\":\"BasicTickFormatter\"},{\"attributes\":{},\"id\":\"13948\",\"type\":\"ResetTool\"},{\"attributes\":{\"ticker\":{\"id\":\"13935\",\"type\":\"BasicTicker\"},\"visible\":false},\"id\":\"13938\",\"type\":\"Grid\"},{\"attributes\":{},\"id\":\"13940\",\"type\":\"BasicTicker\"},{\"attributes\":{},\"id\":\"13945\",\"type\":\"WheelZoomTool\"},{\"attributes\":{\"callback\":null,\"data\":{\"edge_color\":[\"#bebada\",\"#bebada\",\"#bebada\",\"#bebada\",\"#bebada\",\"#bebada\",\"#bebada\",\"#bebada\",\"#bebada\",\"#bebada\",\"#bebada\",\"#bebada\",\"#bebada\",\"#bebada\",\"#bebada\",\"#bebada\",\"#bebada\",\"#bebada\",\"#bebada\",\"#bebada\",\"#bebada\",\"#bebada\",\"#bebada\",\"#bebada\",\"#bebada\",\"#bebada\",\"#bebada\",\"#bebada\",\"#bebada\",\"#bebada\",\"#bebada\",\"#bebada\",\"#bebada\",\"#bebada\",\"#bebada\",\"#bebada\",\"#bebada\",\"#bebada\",\"#bebada\",\"#bebada\",\"#bebada\",\"#bebada\",\"#bebada\",\"#bebada\",\"#bebada\",\"#bebada\",\"#bebada\",\"#bebada\",\"#bebada\",\"#bebada\",\"#bebada\",\"#bebada\",\"#bebada\",\"#bebada\",\"#bebada\",\"#bebada\",\"#bebada\",\"#bebada\",\"#bebada\",\"#bebada\",\"#bebada\",\"#bebada\",\"#bebada\",\"#bebada\",\"#bebada\",\"#bebada\",\"#bebada\",\"#bebada\",\"#bebada\",\"#bebada\",\"#bebada\",\"#bebada\",\"#bebada\",\"#bebada\",\"#bebada\",\"#bebada\",\"#bebada\",\"#bebada\",\"#bebada\",\"#bebada\",\"#bebada\",\"#bebada\",\"#bebada\",\"#bebada\",\"#bebada\",\"#bebada\",\"#bebada\",\"#bebada\",\"#bebada\",\"#bebada\",\"#bebada\",\"#bebada\",\"#bebada\",\"#bebada\",\"#bebada\",\"#bebada\",\"#bebada\",\"#bebada\",\"#bebada\",\"#bebada\",\"#bebada\",\"#bebada\",\"#bebada\",\"#bebada\",\"#bebada\",\"#bebada\",\"#bebada\",\"#bebada\",\"#bebada\",\"#bebada\",\"#bebada\",\"#bebada\",\"#bebada\",\"#bebada\",\"#bebada\",\"#bebada\",\"#bebada\",\"#bebada\",\"#bebada\",\"#bebada\",\"#bebada\",\"#bebada\",\"#bebada\",\"#bebada\",\"#bebada\",\"#bebada\",\"#bebada\",\"#bebada\",\"#bebada\",\"#bebada\",\"#bebada\",\"#bebada\",\"#bebada\",\"#bebada\",\"#bebada\",\"#bebada\",\"#bebada\",\"#bebada\",\"#bebada\",\"#bebada\",\"#bebada\",\"#bebada\",\"#bebada\",\"#bebada\",\"#bebada\",\"#bebada\",\"#bebada\",\"#bebada\",\"#bebada\",\"#bebada\",\"#bebada\",\"#bebada\",\"#bebada\",\"#bebada\",\"#bebada\",\"#bebada\",\"#bebada\",\"#bebada\",\"#bebada\",\"#bebada\",\"#bebada\",\"#bebada\",\"#bebada\",\"#bebada\",\"#bebada\",\"#bebada\",\"#bebada\",\"#bebada\",\"#bebada\",\"#bebada\",\"#bebada\",\"#bebada\",\"#bebada\",\"#bebada\",\"#bebada\",\"#bebada\",\"#bebada\",\"#bebada\",\"#bebada\",\"#bebada\",\"#bebada\",\"#bebada\",\"#bebada\",\"#bebada\",\"#bebada\",\"#bebada\",\"#bebada\",\"#bebada\",\"#bebada\",\"#bebada\",\"#bebada\",\"#bebada\",\"#bebada\",\"#bebada\",\"#bebada\",\"#bebada\",\"#bebada\",\"#bebada\",\"#bebada\",\"#bebada\",\"#bebada\",\"#bebada\",\"#bebada\",\"#bebada\",\"#bebada\",\"#bebada\",\"#bebada\",\"#bebada\",\"#bebada\",\"#bebada\",\"#bebada\",\"#bebada\",\"#bebada\",\"#bebada\",\"#bebada\",\"#bebada\",\"#bebada\",\"#bebada\",\"#bebada\",\"#bebada\",\"#bebada\",\"#bebada\",\"#bebada\",\"#bebada\",\"#bebada\",\"#bebada\",\"#bebada\",\"#bebada\",\"#bebada\",\"#bebada\",\"#bebada\",\"#bebada\",\"#bebada\",\"#bebada\",\"#bebada\",\"#bebada\",\"#bebada\",\"#bebada\",\"#bebada\",\"#bebada\",\"#bebada\",\"#bebada\",\"#bebada\",\"#bebada\",\"#bebada\",\"#bebada\",\"#bebada\",\"#bebada\",\"#bebada\",\"#bebada\",\"#bebada\",\"#bebada\",\"#bebada\",\"#bebada\",\"#bebada\",\"#bebada\",\"#bebada\",\"#bebada\",\"#bebada\",\"#bebada\",\"#bebada\",\"#bebada\",\"#bebada\",\"#bebada\",\"#bebada\",\"#bebada\",\"#bebada\",\"#bebada\",\"#bebada\",\"#bebada\",\"#bebada\",\"#bebada\",\"#bebada\",\"#bebada\",\"#bebada\",\"#bebada\",\"#bebada\",\"#bebada\",\"#bebada\",\"#bebada\",\"#bebada\",\"#bebada\",\"#bebada\",\"#bebada\",\"#bebada\",\"#bebada\",\"#bebada\",\"#bebada\",\"#bebada\",\"#bebada\",\"#bebada\",\"#bebada\",\"#bebada\",\"#bebada\",\"#bebada\",\"#bebada\",\"#bebada\",\"#bebada\",\"#bebada\",\"#bebada\",\"#bebada\",\"#bebada\",\"#bebada\",\"#bebada\",\"#bebada\",\"#bebada\",\"#bebada\",\"#bebada\",\"#bebada\",\"#bebada\",\"#bebada\",\"#bebada\",\"#bebada\",\"#bebada\",\"#bebada\",\"#bebada\",\"#bebada\",\"#bebada\",\"#bebada\",\"#bebada\",\"#bebada\",\"#bebada\",\"#bebada\",\"#bebada\",\"#bebada\",\"#bebada\",\"#bebada\",\"#bebada\",\"#bebada\",\"#bebada\",\"#bebada\",\"#bebada\",\"#bebada\",\"#bebada\",\"#bebada\",\"#bebada\",\"#bebada\",\"#bebada\",\"#bebada\",\"#bebada\",\"#bebada\",\"#bebada\",\"#bebada\",\"#bebada\",\"#bebada\",\"#bebada\",\"#bebada\",\"#bebada\",\"#bebada\",\"#bebada\",\"#bebada\",\"#bebada\",\"#bebada\",\"#bebada\",\"#bebada\",\"#bebada\",\"#bebada\",\"#bebada\",\"#bebada\",\"#bebada\",\"#bebada\",\"#bebada\",\"#bebada\",\"#bebada\",\"#bebada\",\"#bebada\",\"#bebada\",\"#bebada\",\"#bebada\"],\"end\":[\"Huskies_F1\",\"Huskies_G1\",\"Huskies_D2\",\"Huskies_M3\",\"Huskies_M1\",\"Huskies_F2\",\"Huskies_D3\",\"Huskies_F3\",\"Huskies_D4\",\"Huskies_M2\",\"Huskies_D5\",\"Huskies_M4\",\"Huskies_D6\",\"Huskies_M7\",\"Huskies_M6\",\"Huskies_M9\",\"Huskies_M5\",\"Huskies_F4\",\"Huskies_D7\",\"Huskies_M10\",\"Huskies_M11\",\"Huskies_M8\",\"Huskies_M12\",\"Huskies_M13\",\"Huskies_F6\",\"Huskies_D8\",\"Huskies_D9\",\"Huskies_F5\",\"Huskies_D1\",\"Huskies_D10\",\"Huskies_D4\",\"Huskies_D3\",\"Huskies_M3\",\"Huskies_G1\",\"Huskies_F5\",\"Huskies_F6\",\"Huskies_M1\",\"Huskies_M4\",\"Huskies_D3\",\"Huskies_M2\",\"Huskies_M3\",\"Huskies_M1\",\"Huskies_F2\",\"Huskies_D4\",\"Huskies_F3\",\"Huskies_G1\",\"Huskies_F1\",\"Huskies_M4\",\"Huskies_M6\",\"Huskies_M7\",\"Huskies_D6\",\"Huskies_D5\",\"Huskies_M9\",\"Huskies_M5\",\"Huskies_F4\",\"Huskies_M11\",\"Huskies_D7\",\"Huskies_M8\",\"Huskies_D2\",\"Huskies_M10\",\"Huskies_M12\",\"Huskies_M13\",\"Huskies_F5\",\"Huskies_F6\",\"Huskies_D9\",\"Huskies_D8\",\"Huskies_G1\",\"Huskies_D4\",\"Huskies_M2\",\"Huskies_M3\",\"Huskies_F3\",\"Huskies_F2\",\"Huskies_M1\",\"Huskies_F1\",\"Huskies_M4\",\"Huskies_M5\",\"Huskies_D3\",\"Huskies_M6\",\"Huskies_M7\",\"Huskies_D5\",\"Huskies_D6\",\"Huskies_D7\",\"Huskies_M9\",\"Huskies_M10\",\"Huskies_M8\",\"Huskies_M11\",\"Huskies_F4\",\"Huskies_M13\",\"Huskies_M12\",\"Huskies_F6\",\"Huskies_D8\",\"Huskies_F5\",\"Huskies_M2\",\"Huskies_M3\",\"Huskies_F2\",\"Huskies_F1\",\"Huskies_F3\",\"Huskies_M1\",\"Huskies_M4\",\"Huskies_G1\",\"Huskies_M6\",\"Huskies_D4\",\"Huskies_M7\",\"Huskies_D5\",\"Huskies_M9\",\"Huskies_M5\",\"Huskies_F4\",\"Huskies_D6\",\"Huskies_M10\",\"Huskies_M11\",\"Huskies_D7\",\"Huskies_M8\",\"Huskies_M12\",\"Huskies_F5\",\"Huskies_F6\",\"Huskies_D8\",\"Huskies_F2\",\"Huskies_D5\",\"Huskies_M1\",\"Huskies_F1\",\"Huskies_M3\",\"Huskies_G1\",\"Huskies_F3\",\"Huskies_M2\",\"Huskies_M6\",\"Huskies_M4\",\"Huskies_M5\",\"Huskies_D6\",\"Huskies_F4\",\"Huskies_M9\",\"Huskies_M8\",\"Huskies_M10\",\"Huskies_M11\",\"Huskies_D7\",\"Huskies_M12\",\"Huskies_M13\",\"Huskies_F5\",\"Huskies_F6\",\"Huskies_D9\",\"Huskies_D8\",\"Huskies_M1\",\"Huskies_F1\",\"Huskies_M4\",\"Huskies_G1\",\"Huskies_F2\",\"Huskies_D6\",\"Huskies_F3\",\"Huskies_M6\",\"Huskies_M7\",\"Huskies_M8\",\"Huskies_M3\",\"Huskies_M2\",\"Huskies_F4\",\"Huskies_M9\",\"Huskies_D7\",\"Huskies_M11\",\"Huskies_M10\",\"Huskies_M12\",\"Huskies_M13\",\"Huskies_F5\",\"Huskies_F6\",\"Huskies_D8\",\"Huskies_M3\",\"Huskies_F1\",\"Huskies_M1\",\"Huskies_M4\",\"Huskies_M9\",\"Huskies_F2\",\"Huskies_M6\",\"Huskies_G1\",\"Huskies_M10\",\"Huskies_M8\",\"Huskies_M5\",\"Huskies_M11\",\"Huskies_F4\",\"Huskies_F3\",\"Huskies_M12\",\"Huskies_M13\",\"Huskies_D7\",\"Huskies_F5\",\"Huskies_F6\",\"Huskies_D9\",\"Huskies_M4\",\"Huskies_F4\",\"Huskies_F2\",\"Huskies_F6\",\"Huskies_M6\",\"Huskies_M1\",\"Huskies_G1\",\"Huskies_F5\",\"Huskies_F1\",\"Huskies_M2\",\"Huskies_M12\",\"Huskies_M3\",\"Huskies_M11\",\"Huskies_D8\",\"Huskies_M9\",\"Huskies_F6\",\"Huskies_M3\",\"Huskies_M1\",\"Huskies_G1\",\"Huskies_F4\",\"Huskies_M12\",\"Huskies_M4\",\"Huskies_F1\",\"Huskies_F2\",\"Huskies_G1\",\"Huskies_F2\",\"Huskies_M1\",\"Huskies_M2\",\"Huskies_F3\",\"Huskies_M5\",\"Huskies_M4\",\"Huskies_M3\",\"Huskies_M7\",\"Huskies_M6\",\"Huskies_M9\",\"Huskies_F4\",\"Huskies_M11\",\"Huskies_M10\",\"Huskies_M8\",\"Huskies_F1\",\"Huskies_M12\",\"Huskies_M13\",\"Huskies_F5\",\"Huskies_F6\",\"Huskies_M1\",\"Huskies_M3\",\"Huskies_F3\",\"Huskies_M4\",\"Huskies_M5\",\"Huskies_G1\",\"Huskies_M6\",\"Huskies_M2\",\"Huskies_M7\",\"Huskies_M8\",\"Huskies_M9\",\"Huskies_F2\",\"Huskies_F4\",\"Huskies_M11\",\"Huskies_M12\",\"Huskies_M13\",\"Huskies_F5\",\"Huskies_F6\",\"Huskies_M2\",\"Huskies_M1\",\"Huskies_M3\",\"Huskies_M4\",\"Huskies_M6\",\"Huskies_G1\",\"Huskies_M5\",\"Huskies_F4\",\"Huskies_M11\",\"Huskies_M4\",\"Huskies_M1\",\"Huskies_M3\",\"Huskies_M6\",\"Huskies_M9\",\"Huskies_G1\",\"Huskies_M10\",\"Huskies_M8\",\"Huskies_F4\",\"Huskies_M12\",\"Huskies_M13\",\"Huskies_F6\",\"Huskies_M11\",\"Huskies_F5\",\"Huskies_M2\",\"Huskies_M1\",\"Huskies_M12\",\"Huskies_M6\",\"Huskies_M13\",\"Huskies_F5\",\"Huskies_M8\",\"Huskies_M9\",\"Huskies_M3\",\"Huskies_F6\",\"Huskies_M4\",\"Huskies_G1\",\"Huskies_M11\",\"Huskies_M2\",\"Huskies_M3\",\"Huskies_M13\",\"Huskies_M9\",\"Huskies_M6\",\"Huskies_M1\",\"Huskies_M4\",\"Huskies_G1\",\"Huskies_M12\",\"Huskies_M11\",\"Huskies_M2\",\"Huskies_G1\",\"Huskies_M1\",\"Huskies_M2\",\"Huskies_M3\",\"Huskies_M4\",\"Huskies_M7\",\"Huskies_M6\",\"Huskies_M5\",\"Huskies_M9\",\"Huskies_M11\",\"Huskies_M8\",\"Huskies_M12\",\"Huskies_M13\",\"Huskies_M3\",\"Huskies_M2\",\"Huskies_M1\",\"Huskies_M4\",\"Huskies_M5\",\"Huskies_M6\",\"Huskies_M7\",\"Huskies_M8\",\"Huskies_M9\",\"Huskies_M11\",\"Huskies_M10\",\"Huskies_M13\",\"Huskies_M12\",\"Huskies_M4\",\"Huskies_M6\",\"Huskies_M3\",\"Huskies_M8\",\"Huskies_M9\",\"Huskies_M11\",\"Huskies_M4\",\"Huskies_M6\",\"Huskies_M9\",\"Huskies_M3\",\"Huskies_M6\",\"Huskies_M3\",\"Huskies_M4\",\"Huskies_M8\",\"Huskies_M9\",\"Huskies_M13\",\"Huskies_M12\",\"Huskies_M3\",\"Huskies_M13\",\"Huskies_M6\",\"Huskies_M8\",\"Huskies_M9\",\"Huskies_M3\",\"Huskies_M6\",\"Huskies_M2\",\"Huskies_M4\",\"Huskies_M4\",\"Huskies_M6\",\"Huskies_M5\",\"Huskies_M9\",\"Huskies_M8\",\"Huskies_M5\",\"Huskies_M9\",\"Huskies_M6\",\"Huskies_M4\",\"Huskies_M8\",\"Huskies_M5\",\"Huskies_M9\",\"Huskies_M8\",\"Huskies_M6\",\"Huskies_M7\",\"Huskies_M8\",\"Huskies_M9\",\"Huskies_M6\",\"Huskies_M8\",\"Huskies_M9\",\"Opponent7_D3\",\"Opponent7_D4\",\"Opponent7_M2\",\"Opponent7_F1\",\"Opponent7_F2\",\"Opponent7_D2\"],\"start\":[\"Huskies_D1\",\"Huskies_D1\",\"Huskies_D1\",\"Huskies_D1\",\"Huskies_D1\",\"Huskies_D1\",\"Huskies_D1\",\"Huskies_D1\",\"Huskies_D1\",\"Huskies_D1\",\"Huskies_D1\",\"Huskies_D1\",\"Huskies_D1\",\"Huskies_D1\",\"Huskies_D1\",\"Huskies_D1\",\"Huskies_D1\",\"Huskies_D1\",\"Huskies_D1\",\"Huskies_D1\",\"Huskies_D1\",\"Huskies_D1\",\"Huskies_D1\",\"Huskies_D1\",\"Huskies_D1\",\"Huskies_D1\",\"Huskies_D1\",\"Huskies_D1\",\"Huskies_D1\",\"Huskies_D1\",\"Huskies_D10\",\"Huskies_D10\",\"Huskies_D10\",\"Huskies_D10\",\"Huskies_D10\",\"Huskies_D10\",\"Huskies_D10\",\"Huskies_D10\",\"Huskies_D2\",\"Huskies_D2\",\"Huskies_D2\",\"Huskies_D2\",\"Huskies_D2\",\"Huskies_D2\",\"Huskies_D2\",\"Huskies_D2\",\"Huskies_D2\",\"Huskies_D2\",\"Huskies_D2\",\"Huskies_D2\",\"Huskies_D2\",\"Huskies_D2\",\"Huskies_D2\",\"Huskies_D2\",\"Huskies_D2\",\"Huskies_D2\",\"Huskies_D2\",\"Huskies_D2\",\"Huskies_D2\",\"Huskies_D2\",\"Huskies_D2\",\"Huskies_D2\",\"Huskies_D2\",\"Huskies_D2\",\"Huskies_D2\",\"Huskies_D2\",\"Huskies_D3\",\"Huskies_D3\",\"Huskies_D3\",\"Huskies_D3\",\"Huskies_D3\",\"Huskies_D3\",\"Huskies_D3\",\"Huskies_D3\",\"Huskies_D3\",\"Huskies_D3\",\"Huskies_D3\",\"Huskies_D3\",\"Huskies_D3\",\"Huskies_D3\",\"Huskies_D3\",\"Huskies_D3\",\"Huskies_D3\",\"Huskies_D3\",\"Huskies_D3\",\"Huskies_D3\",\"Huskies_D3\",\"Huskies_D3\",\"Huskies_D3\",\"Huskies_D3\",\"Huskies_D3\",\"Huskies_D3\",\"Huskies_D4\",\"Huskies_D4\",\"Huskies_D4\",\"Huskies_D4\",\"Huskies_D4\",\"Huskies_D4\",\"Huskies_D4\",\"Huskies_D4\",\"Huskies_D4\",\"Huskies_D4\",\"Huskies_D4\",\"Huskies_D4\",\"Huskies_D4\",\"Huskies_D4\",\"Huskies_D4\",\"Huskies_D4\",\"Huskies_D4\",\"Huskies_D4\",\"Huskies_D4\",\"Huskies_D4\",\"Huskies_D4\",\"Huskies_D4\",\"Huskies_D4\",\"Huskies_D4\",\"Huskies_D5\",\"Huskies_D5\",\"Huskies_D5\",\"Huskies_D5\",\"Huskies_D5\",\"Huskies_D5\",\"Huskies_D5\",\"Huskies_D5\",\"Huskies_D5\",\"Huskies_D5\",\"Huskies_D5\",\"Huskies_D5\",\"Huskies_D5\",\"Huskies_D5\",\"Huskies_D5\",\"Huskies_D5\",\"Huskies_D5\",\"Huskies_D5\",\"Huskies_D5\",\"Huskies_D5\",\"Huskies_D5\",\"Huskies_D5\",\"Huskies_D5\",\"Huskies_D5\",\"Huskies_D6\",\"Huskies_D6\",\"Huskies_D6\",\"Huskies_D6\",\"Huskies_D6\",\"Huskies_D6\",\"Huskies_D6\",\"Huskies_D6\",\"Huskies_D6\",\"Huskies_D6\",\"Huskies_D6\",\"Huskies_D6\",\"Huskies_D6\",\"Huskies_D6\",\"Huskies_D6\",\"Huskies_D6\",\"Huskies_D6\",\"Huskies_D6\",\"Huskies_D6\",\"Huskies_D6\",\"Huskies_D6\",\"Huskies_D6\",\"Huskies_D7\",\"Huskies_D7\",\"Huskies_D7\",\"Huskies_D7\",\"Huskies_D7\",\"Huskies_D7\",\"Huskies_D7\",\"Huskies_D7\",\"Huskies_D7\",\"Huskies_D7\",\"Huskies_D7\",\"Huskies_D7\",\"Huskies_D7\",\"Huskies_D7\",\"Huskies_D7\",\"Huskies_D7\",\"Huskies_D7\",\"Huskies_D7\",\"Huskies_D7\",\"Huskies_D7\",\"Huskies_D8\",\"Huskies_D8\",\"Huskies_D8\",\"Huskies_D8\",\"Huskies_D8\",\"Huskies_D8\",\"Huskies_D8\",\"Huskies_D8\",\"Huskies_D8\",\"Huskies_D8\",\"Huskies_D8\",\"Huskies_D8\",\"Huskies_D8\",\"Huskies_D8\",\"Huskies_D8\",\"Huskies_D9\",\"Huskies_D9\",\"Huskies_D9\",\"Huskies_D9\",\"Huskies_D9\",\"Huskies_D9\",\"Huskies_D9\",\"Huskies_D9\",\"Huskies_D9\",\"Huskies_F1\",\"Huskies_F1\",\"Huskies_F1\",\"Huskies_F1\",\"Huskies_F1\",\"Huskies_F1\",\"Huskies_F1\",\"Huskies_F1\",\"Huskies_F1\",\"Huskies_F1\",\"Huskies_F1\",\"Huskies_F1\",\"Huskies_F1\",\"Huskies_F1\",\"Huskies_F1\",\"Huskies_F1\",\"Huskies_F1\",\"Huskies_F1\",\"Huskies_F1\",\"Huskies_F1\",\"Huskies_F2\",\"Huskies_F2\",\"Huskies_F2\",\"Huskies_F2\",\"Huskies_F2\",\"Huskies_F2\",\"Huskies_F2\",\"Huskies_F2\",\"Huskies_F2\",\"Huskies_F2\",\"Huskies_F2\",\"Huskies_F2\",\"Huskies_F2\",\"Huskies_F2\",\"Huskies_F2\",\"Huskies_F2\",\"Huskies_F2\",\"Huskies_F2\",\"Huskies_F3\",\"Huskies_F3\",\"Huskies_F3\",\"Huskies_F3\",\"Huskies_F3\",\"Huskies_F3\",\"Huskies_F3\",\"Huskies_F3\",\"Huskies_F3\",\"Huskies_F4\",\"Huskies_F4\",\"Huskies_F4\",\"Huskies_F4\",\"Huskies_F4\",\"Huskies_F4\",\"Huskies_F4\",\"Huskies_F4\",\"Huskies_F4\",\"Huskies_F4\",\"Huskies_F4\",\"Huskies_F4\",\"Huskies_F4\",\"Huskies_F4\",\"Huskies_F4\",\"Huskies_F5\",\"Huskies_F5\",\"Huskies_F5\",\"Huskies_F5\",\"Huskies_F5\",\"Huskies_F5\",\"Huskies_F5\",\"Huskies_F5\",\"Huskies_F5\",\"Huskies_F5\",\"Huskies_F5\",\"Huskies_F5\",\"Huskies_F5\",\"Huskies_F6\",\"Huskies_F6\",\"Huskies_F6\",\"Huskies_F6\",\"Huskies_F6\",\"Huskies_F6\",\"Huskies_F6\",\"Huskies_F6\",\"Huskies_F6\",\"Huskies_F6\",\"Huskies_G1\",\"Huskies_G1\",\"Huskies_G1\",\"Huskies_G1\",\"Huskies_G1\",\"Huskies_G1\",\"Huskies_G1\",\"Huskies_G1\",\"Huskies_G1\",\"Huskies_G1\",\"Huskies_G1\",\"Huskies_G1\",\"Huskies_G1\",\"Huskies_M1\",\"Huskies_M1\",\"Huskies_M1\",\"Huskies_M1\",\"Huskies_M1\",\"Huskies_M1\",\"Huskies_M1\",\"Huskies_M1\",\"Huskies_M1\",\"Huskies_M1\",\"Huskies_M1\",\"Huskies_M1\",\"Huskies_M1\",\"Huskies_M10\",\"Huskies_M10\",\"Huskies_M10\",\"Huskies_M10\",\"Huskies_M10\",\"Huskies_M10\",\"Huskies_M11\",\"Huskies_M11\",\"Huskies_M11\",\"Huskies_M11\",\"Huskies_M12\",\"Huskies_M12\",\"Huskies_M12\",\"Huskies_M12\",\"Huskies_M12\",\"Huskies_M12\",\"Huskies_M12\",\"Huskies_M13\",\"Huskies_M13\",\"Huskies_M13\",\"Huskies_M13\",\"Huskies_M13\",\"Huskies_M2\",\"Huskies_M2\",\"Huskies_M2\",\"Huskies_M2\",\"Huskies_M3\",\"Huskies_M3\",\"Huskies_M3\",\"Huskies_M3\",\"Huskies_M3\",\"Huskies_M4\",\"Huskies_M4\",\"Huskies_M4\",\"Huskies_M4\",\"Huskies_M4\",\"Huskies_M5\",\"Huskies_M5\",\"Huskies_M5\",\"Huskies_M5\",\"Huskies_M6\",\"Huskies_M6\",\"Huskies_M6\",\"Huskies_M6\",\"Huskies_M8\",\"Huskies_M8\",\"Huskies_M8\",\"Huskies_M8\",\"Huskies_M8\",\"Huskies_M8\",\"Huskies_M8\",\"Huskies_M8\"]},\"selected\":{\"id\":\"14521\",\"type\":\"Selection\"},\"selection_policy\":{\"id\":\"14522\",\"type\":\"UnionRenderers\"}},\"id\":\"13968\",\"type\":\"ColumnDataSource\"},{\"attributes\":{},\"id\":\"13932\",\"type\":\"LinearScale\"},{\"attributes\":{},\"id\":\"14510\",\"type\":\"NodesOnly\"},{\"attributes\":{},\"id\":\"13944\",\"type\":\"PanTool\"},{\"attributes\":{},\"id\":\"13947\",\"type\":\"SaveTool\"},{\"attributes\":{\"edge_renderer\":{\"id\":\"13969\",\"type\":\"GlyphRenderer\"},\"inspection_policy\":{\"id\":\"14510\",\"type\":\"NodesOnly\"},\"layout_provider\":{\"id\":\"13971\",\"type\":\"StaticLayoutProvider\"},\"node_renderer\":{\"id\":\"13965\",\"type\":\"GlyphRenderer\"},\"selection_policy\":{\"id\":\"14515\",\"type\":\"NodesOnly\"}},\"id\":\"13962\",\"type\":\"GraphRenderer\"},{\"attributes\":{},\"id\":\"13935\",\"type\":\"BasicTicker\"},{\"attributes\":{\"callback\":null,\"tooltips\":[[\"index\",\"@index\"]]},\"id\":\"13958\",\"type\":\"HoverTool\"},{\"attributes\":{},\"id\":\"13949\",\"type\":\"HelpTool\"},{\"attributes\":{\"graph_layout\":{\"Huskies_D1\":[-0.01006366914716096,-0.28777190507359823],\"Huskies_D10\":[-0.38875638337195506,-0.2901620121964944],\"Huskies_D2\":[-0.00698729952029677,-0.12485913581500874],\"Huskies_D3\":[-0.10181581508880838,-0.12968439836600928],\"Huskies_D4\":[0.11747937655740466,-0.2750754689349138],\"Huskies_D5\":[0.16408593323257528,-0.08863928310762366],\"Huskies_D6\":[0.10544315626298115,-0.04316212240739072],\"Huskies_D7\":[0.04959715495571573,0.017145103717667896],\"Huskies_D8\":[0.16912649638853042,-0.3741110379049536],\"Huskies_D9\":[-0.20000147040053595,-0.41908122958933264],\"Huskies_F1\":[0.1081988446459246,-0.1846978234770724],\"Huskies_F2\":[-0.023003377276993572,-0.34704903281829336],\"Huskies_F3\":[0.27963755674409385,-0.32156924377317203],\"Huskies_F4\":[0.06560131021415644,-0.10028155924619701],\"Huskies_F5\":[-0.11184849440230162,-0.015132793689005365],\"Huskies_F6\":[0.042404918108041735,-0.2525603630269441],\"Huskies_G1\":[-0.12480049335260032,-0.2521923316728243],\"Huskies_M1\":[-0.07673619909135407,-0.18283838798174434],\"Huskies_M10\":[0.158763354860215,0.11448684314786942],\"Huskies_M11\":[0.25325944348026114,-0.05974509234614758],\"Huskies_M12\":[-0.20068551182149746,-0.2619539818220152],\"Huskies_M13\":[-0.1742975006147367,0.06013856849218161],\"Huskies_M2\":[0.30256294144103874,-0.21277419919775573],\"Huskies_M3\":[-0.029409452342128353,-0.044148081882301786],\"Huskies_M4\":[-0.038046613313343296,-0.23445191063091908],\"Huskies_M5\":[0.07488155825765586,-0.41713884556816866],\"Huskies_M6\":[0.1858290902848079,-0.18268942124888693],\"Huskies_M7\":[-0.024591522450057305,-0.5572706731391239],\"Huskies_M8\":[-0.03229983581152513,0.2536659440298454],\"Huskies_M9\":[-0.17911449003604185,-0.08163803600479985],\"Opponent7_D2\":[0.5290480880868795,0.7774680218570449],\"Opponent7_D3\":[-0.42091135317551387,0.8969368741703417],\"Opponent7_D4\":[-0.1851043926504797,0.9794399544435646],\"Opponent7_F1\":[-0.6306117013296135,0.7102630109628588],\"Opponent7_F2\":[0.2964951762973697,0.9311340500993243],\"Opponent7_M2\":[0.05667117537929142,1.0]}},\"id\":\"13971\",\"type\":\"StaticLayoutProvider\"},{\"attributes\":{\"fill_color\":{\"field\":\"color\"},\"size\":{\"units\":\"screen\",\"value\":15}},\"id\":\"13972\",\"type\":\"Circle\"},{\"attributes\":{},\"id\":\"14509\",\"type\":\"BasicTickFormatter\"},{\"attributes\":{\"data_source\":{\"id\":\"13968\",\"type\":\"ColumnDataSource\"},\"glyph\":{\"id\":\"13977\",\"type\":\"MultiLine\"},\"hover_glyph\":null,\"muted_glyph\":null,\"view\":{\"id\":\"13970\",\"type\":\"CDSView\"}},\"id\":\"13969\",\"type\":\"GlyphRenderer\"},{\"attributes\":{},\"id\":\"14515\",\"type\":\"NodesOnly\"},{\"attributes\":{\"dimension\":1,\"ticker\":{\"id\":\"13940\",\"type\":\"BasicTicker\"},\"visible\":false},\"id\":\"13943\",\"type\":\"Grid\"},{\"attributes\":{\"source\":{\"id\":\"13968\",\"type\":\"ColumnDataSource\"}},\"id\":\"13970\",\"type\":\"CDSView\"},{\"attributes\":{\"formatter\":{\"id\":\"14509\",\"type\":\"BasicTickFormatter\"},\"ticker\":{\"id\":\"13940\",\"type\":\"BasicTicker\"}},\"id\":\"13939\",\"type\":\"LinearAxis\"},{\"attributes\":{\"bottom_units\":\"screen\",\"fill_alpha\":{\"value\":0.5},\"fill_color\":{\"value\":\"lightgrey\"},\"left_units\":\"screen\",\"level\":\"overlay\",\"line_alpha\":{\"value\":1.0},\"line_color\":{\"value\":\"black\"},\"line_dash\":[4,4],\"line_width\":{\"value\":2},\"render_mode\":\"css\",\"right_units\":\"screen\",\"top_units\":\"screen\"},\"id\":\"14520\",\"type\":\"BoxAnnotation\"},{\"attributes\":{},\"id\":\"14524\",\"type\":\"UnionRenderers\"},{\"attributes\":{\"data_source\":{\"id\":\"13964\",\"type\":\"ColumnDataSource\"},\"glyph\":{\"id\":\"13972\",\"type\":\"Circle\"},\"hover_glyph\":null,\"muted_glyph\":null,\"view\":{\"id\":\"13966\",\"type\":\"CDSView\"}},\"id\":\"13965\",\"type\":\"GlyphRenderer\"}],\"root_ids\":[\"13927\"]},\"title\":\"Bokeh Application\",\"version\":\"1.4.0\"}};\n",
       "  var render_items = [{\"docid\":\"7af4dcc8-2cd2-4611-846b-b2738d1c8a56\",\"roots\":{\"13927\":\"7a5127de-3fa2-4173-a942-d03a3473cf5d\"}}];\n",
       "  root.Bokeh.embed.embed_items_notebook(docs_json, render_items);\n",
       "\n",
       "  }\n",
       "  if (root.Bokeh !== undefined) {\n",
       "    embed_document(root);\n",
       "  } else {\n",
       "    var attempts = 0;\n",
       "    var timer = setInterval(function(root) {\n",
       "      if (root.Bokeh !== undefined) {\n",
       "        clearInterval(timer);\n",
       "        embed_document(root);\n",
       "      } else {\n",
       "        attempts++;\n",
       "        if (attempts > 100) {\n",
       "          clearInterval(timer);\n",
       "          console.log(\"Bokeh: ERROR: Unable to run BokehJS code because BokehJS library is missing\");\n",
       "        }\n",
       "      }\n",
       "    }, 10, root)\n",
       "  }\n",
       "})(window);"
      ],
      "application/vnd.bokehjs_exec.v0+json": ""
     },
     "metadata": {
      "application/vnd.bokehjs_exec.v0+json": {
       "id": "13927"
      }
     },
     "output_type": "display_data"
    }
   ],
   "source": [
    "plot = Figure(plot_width=800, plot_height=600,\n",
    "            x_range=Range1d(-1.1, 1.1), y_range=Range1d(-1.1, 1.1))\n",
    "plot.title.text = \"Passes Among Huskies Players\"\n",
    "plot.xgrid.visible = False\n",
    "plot.ygrid.visible = False\n",
    "\n",
    "node_hover_tool = HoverTool(tooltips=[(\"index\", \"@index\")])\n",
    "plot.add_tools(node_hover_tool)\n",
    "#plot.add_tools(node_hover_tool, PanTool(), WheelZoomTool(), ResetTool())\n",
    "\n",
    "graph_renderer = from_networkx(g, nx.spring_layout, scale=1, center=(0, 0))\n",
    "\n",
    "graph_renderer.node_renderer.glyph = Circle(size=15, fill_color=\"color\")\n",
    "\n",
    "graph_renderer.edge_renderer.glyph = MultiLine(line_color=\"edge_color\", line_alpha=0.8, line_width=2)\n",
    "plot.renderers.append(graph_renderer)\n",
    "\n",
    "#for n, c in event_colors.items():\n",
    "    #plot.line(0, 0, color=c, legend_label=n)\n",
    "\n",
    "#legend = Legend(items=[LegendItem(label=name, renderers=[Line(line_color=color, line_alpha=0.8, line_width=2)]) for (name, color) in event_colors.items()])\n",
    "\n",
    "show(plot)"
   ]
  },
  {
   "cell_type": "code",
   "execution_count": 85,
   "metadata": {},
   "outputs": [],
   "source": [
    "gsub = nx.Graph()\n",
    "\n",
    "for i in players:\n",
    "    #colors of nodes can be changed here\n",
    "    if 'Husk' in i:\n",
    "        c = Spectral4[1]\n",
    "        gsub.add_node(i, color=c)\n",
    "    else: c = Spectral4[0]"
   ]
  },
  {
   "cell_type": "code",
   "execution_count": 98,
   "metadata": {},
   "outputs": [],
   "source": [
    "color_list = df.EventType.map(event_colors)\n",
    "\n",
    "for index, row in df[df.EventType=='Substitution'].iterrows():\n",
    "    if not pd.isnull(row.DestinationPlayerID) and ('Husk' in row.DestinationPlayerID) and (row.MatchID in ties):\n",
    "        gsub.add_edge(row.OriginPlayerID, row.DestinationPlayerID, edge_color=color_list[index])"
   ]
  },
  {
   "cell_type": "code",
   "execution_count": 99,
   "metadata": {},
   "outputs": [
    {
     "data": {
      "text/html": [
       "\n",
       "\n",
       "\n",
       "\n",
       "\n",
       "\n",
       "  <div class=\"bk-root\" id=\"e96b530b-62ed-4377-b564-161ceccc0285\" data-root-id=\"20489\"></div>\n"
      ]
     },
     "metadata": {},
     "output_type": "display_data"
    },
    {
     "data": {
      "application/javascript": [
       "(function(root) {\n",
       "  function embed_document(root) {\n",
       "    \n",
       "  var docs_json = {\"9527d8a4-a483-45af-868c-855fb1ddaedd\":{\"roots\":{\"references\":[{\"attributes\":{\"below\":[{\"id\":\"20496\",\"type\":\"LinearAxis\"}],\"center\":[{\"id\":\"20500\",\"type\":\"Grid\"},{\"id\":\"20505\",\"type\":\"Grid\"}],\"left\":[{\"id\":\"20501\",\"type\":\"LinearAxis\"}],\"plot_width\":800,\"renderers\":[{\"id\":\"20524\",\"type\":\"GraphRenderer\"}],\"title\":{\"id\":\"20519\",\"type\":\"Title\"},\"toolbar\":{\"id\":\"20512\",\"type\":\"Toolbar\"},\"x_range\":{\"id\":\"20487\",\"type\":\"Range1d\"},\"x_scale\":{\"id\":\"20492\",\"type\":\"LinearScale\"},\"y_range\":{\"id\":\"20488\",\"type\":\"Range1d\"},\"y_scale\":{\"id\":\"20494\",\"type\":\"LinearScale\"}},\"id\":\"20489\",\"subtype\":\"Figure\",\"type\":\"Plot\"},{\"attributes\":{\"data_source\":{\"id\":\"20526\",\"type\":\"ColumnDataSource\"},\"glyph\":{\"id\":\"20534\",\"type\":\"Circle\"},\"hover_glyph\":null,\"muted_glyph\":null,\"view\":{\"id\":\"20528\",\"type\":\"CDSView\"}},\"id\":\"20527\",\"type\":\"GlyphRenderer\"},{\"attributes\":{\"formatter\":{\"id\":\"21237\",\"type\":\"BasicTickFormatter\"},\"ticker\":{\"id\":\"20497\",\"type\":\"BasicTicker\"}},\"id\":\"20496\",\"type\":\"LinearAxis\"},{\"attributes\":{\"callback\":null,\"tooltips\":[[\"index\",\"@index\"]]},\"id\":\"20520\",\"type\":\"HoverTool\"},{\"attributes\":{},\"id\":\"20494\",\"type\":\"LinearScale\"},{\"attributes\":{\"source\":{\"id\":\"20526\",\"type\":\"ColumnDataSource\"}},\"id\":\"20528\",\"type\":\"CDSView\"},{\"attributes\":{\"formatter\":{\"id\":\"21239\",\"type\":\"BasicTickFormatter\"},\"ticker\":{\"id\":\"20502\",\"type\":\"BasicTicker\"}},\"id\":\"20501\",\"type\":\"LinearAxis\"},{\"attributes\":{\"active_drag\":\"auto\",\"active_inspect\":\"auto\",\"active_multi\":null,\"active_scroll\":\"auto\",\"active_tap\":\"auto\",\"tools\":[{\"id\":\"20506\",\"type\":\"PanTool\"},{\"id\":\"20507\",\"type\":\"WheelZoomTool\"},{\"id\":\"20508\",\"type\":\"BoxZoomTool\"},{\"id\":\"20509\",\"type\":\"SaveTool\"},{\"id\":\"20510\",\"type\":\"ResetTool\"},{\"id\":\"20511\",\"type\":\"HelpTool\"},{\"id\":\"20520\",\"type\":\"HoverTool\"}]},\"id\":\"20512\",\"type\":\"Toolbar\"},{\"attributes\":{},\"id\":\"20497\",\"type\":\"BasicTicker\"},{\"attributes\":{\"graph_layout\":{\"Huskies_D1\":[0.18255734801429077,-0.1199235523083564],\"Huskies_D10\":[-0.058825874516361676,-0.2236481007906568],\"Huskies_D2\":[-0.0644157848791225,0.06019351378415721],\"Huskies_D3\":[0.05208958957306877,-0.1880654283632359],\"Huskies_D4\":[-0.01192820343331591,0.16913315982953656],\"Huskies_D5\":[-0.16406369554082,0.25390367409358855],\"Huskies_D6\":[0.00988838090175629,-0.3607010535464974],\"Huskies_D7\":[-0.2387047438902444,0.4077049346456948],\"Huskies_D8\":[-0.29165790064904773,0.5204215756665068],\"Huskies_D9\":[-0.19320406629918058,0.13171532845989795],\"Huskies_F1\":[0.001811064602867724,-0.10682294155093715],\"Huskies_F2\":[0.10782308699867943,-0.07663166833723623],\"Huskies_F3\":[0.03322464932294961,0.0007419406293311074],\"Huskies_F4\":[0.0007518331886575868,-0.056907943836783395],\"Huskies_F5\":[-0.12781136761934908,-0.09900520698162851],\"Huskies_F6\":[-0.16244097466757754,-0.1639229381038553],\"Huskies_G1\":[-0.14438347058622075,1.0],\"Huskies_M1\":[0.0731215604118692,-0.11570353767868204],\"Huskies_M10\":[0.1245348452225619,0.02609605823661839],\"Huskies_M11\":[0.11555818186096808,-0.02987522676555829],\"Huskies_M12\":[0.023601682173902457,-0.19111890392770944],\"Huskies_M13\":[0.15250597035535418,-0.21587526396703752],\"Huskies_M2\":[-0.054040425104040106,-0.10183308565020881],\"Huskies_M3\":[0.11945486326432236,-0.1316783126284934],\"Huskies_M4\":[0.07342320858363469,-0.06002823401126559],\"Huskies_M5\":[0.055037894982157096,0.0668158362390275],\"Huskies_M6\":[0.08725530742784139,-0.16324023459405762],\"Huskies_M7\":[0.21940595594476436,-0.027038130550100396],\"Huskies_M8\":[0.03795885978306716,-0.06491571715991248],\"Huskies_M9\":[0.041472224572566614,-0.1397905408321461]}},\"id\":\"20533\",\"type\":\"StaticLayoutProvider\"},{\"attributes\":{\"text\":\"Substitutions of Huskies Players\"},\"id\":\"20519\",\"type\":\"Title\"},{\"attributes\":{},\"id\":\"21252\",\"type\":\"UnionRenderers\"},{\"attributes\":{},\"id\":\"20509\",\"type\":\"SaveTool\"},{\"attributes\":{\"callback\":null,\"data\":{\"color\":[\"#abdda4\",\"#abdda4\",\"#abdda4\",\"#abdda4\",\"#abdda4\",\"#abdda4\",\"#abdda4\",\"#abdda4\",\"#abdda4\",\"#abdda4\",\"#abdda4\",\"#abdda4\",\"#abdda4\",\"#abdda4\",\"#abdda4\",\"#abdda4\",\"#abdda4\",\"#abdda4\",\"#abdda4\",\"#abdda4\",\"#abdda4\",\"#abdda4\",\"#abdda4\",\"#abdda4\",\"#abdda4\",\"#abdda4\",\"#abdda4\",\"#abdda4\",\"#abdda4\",\"#abdda4\"],\"index\":[\"Huskies_D1\",\"Huskies_D10\",\"Huskies_D2\",\"Huskies_D3\",\"Huskies_D4\",\"Huskies_D5\",\"Huskies_D6\",\"Huskies_D7\",\"Huskies_D8\",\"Huskies_D9\",\"Huskies_F1\",\"Huskies_F2\",\"Huskies_F3\",\"Huskies_F4\",\"Huskies_F5\",\"Huskies_F6\",\"Huskies_G1\",\"Huskies_M1\",\"Huskies_M10\",\"Huskies_M11\",\"Huskies_M12\",\"Huskies_M13\",\"Huskies_M2\",\"Huskies_M3\",\"Huskies_M4\",\"Huskies_M5\",\"Huskies_M6\",\"Huskies_M7\",\"Huskies_M8\",\"Huskies_M9\"]},\"selected\":{\"id\":\"21253\",\"type\":\"Selection\"},\"selection_policy\":{\"id\":\"21254\",\"type\":\"UnionRenderers\"}},\"id\":\"20526\",\"type\":\"ColumnDataSource\"},{\"attributes\":{},\"id\":\"21251\",\"type\":\"Selection\"},{\"attributes\":{\"callback\":null,\"end\":1.1,\"start\":-1.1},\"id\":\"20487\",\"type\":\"Range1d\"},{\"attributes\":{},\"id\":\"20510\",\"type\":\"ResetTool\"},{\"attributes\":{},\"id\":\"21254\",\"type\":\"UnionRenderers\"},{\"attributes\":{\"callback\":null,\"data\":{\"edge_color\":[\"#bc80bd\",\"#bc80bd\",\"#bc80bd\",\"#bc80bd\",\"#bc80bd\",\"#bc80bd\",\"#bc80bd\",\"#bc80bd\",\"#bc80bd\",\"#bc80bd\",\"#bc80bd\",\"#bc80bd\",\"#bc80bd\",\"#bc80bd\",\"#bc80bd\",\"#bc80bd\",\"#bc80bd\",\"#bc80bd\",\"#bc80bd\",\"#bc80bd\",\"#bc80bd\",\"#bc80bd\",\"#bc80bd\",\"#bc80bd\",\"#bc80bd\",\"#bc80bd\",\"#bc80bd\",\"#bc80bd\",\"#bc80bd\",\"#bc80bd\",\"#bc80bd\",\"#bc80bd\",\"#bc80bd\",\"#bc80bd\",\"#bc80bd\",\"#bc80bd\",\"#bc80bd\",\"#bc80bd\",\"#bc80bd\",\"#bc80bd\",\"#bc80bd\",\"#bc80bd\",\"#bc80bd\",\"#bc80bd\",\"#bc80bd\",\"#bc80bd\",\"#bc80bd\",\"#bc80bd\",\"#bc80bd\",\"#bc80bd\",\"#bc80bd\",\"#bc80bd\",\"#bc80bd\",\"#bc80bd\",\"#bc80bd\",\"#bc80bd\",\"#bc80bd\",\"#bc80bd\",\"#bc80bd\",\"#bc80bd\",\"#bc80bd\",\"#bc80bd\",\"#bc80bd\",\"#bc80bd\",\"#bc80bd\",\"#bc80bd\",\"#bc80bd\",\"#bc80bd\",\"#bc80bd\",\"#bc80bd\",\"#bc80bd\",\"#bc80bd\",\"#bc80bd\",\"#bc80bd\",\"#bc80bd\",\"#bc80bd\",\"#bc80bd\",\"#bc80bd\",\"#bc80bd\",\"#bc80bd\",\"#bc80bd\",\"#bc80bd\",\"#bc80bd\"],\"end\":[\"Huskies_M9\",\"Huskies_F2\",\"Huskies_M4\",\"Huskies_M12\",\"Huskies_M9\",\"Huskies_M2\",\"Huskies_D5\",\"Huskies_M2\",\"Huskies_M4\",\"Huskies_D4\",\"Huskies_M8\",\"Huskies_F4\",\"Huskies_D9\",\"Huskies_M8\",\"Huskies_F2\",\"Huskies_M6\",\"Huskies_M2\",\"Huskies_M5\",\"Huskies_D7\",\"Huskies_M12\",\"Huskies_D8\",\"Huskies_F3\",\"Huskies_M2\",\"Huskies_M1\",\"Huskies_F4\",\"Huskies_F2\",\"Huskies_M3\",\"Huskies_M9\",\"Huskies_M8\",\"Huskies_F5\",\"Huskies_M6\",\"Huskies_F6\",\"Huskies_M4\",\"Huskies_M11\",\"Huskies_M12\",\"Huskies_M7\",\"Huskies_M5\",\"Huskies_F4\",\"Huskies_M3\",\"Huskies_M4\",\"Huskies_M10\",\"Huskies_M6\",\"Huskies_M11\",\"Huskies_F3\",\"Huskies_M13\",\"Huskies_M8\",\"Huskies_M1\",\"Huskies_M9\",\"Huskies_M5\",\"Huskies_M4\",\"Huskies_F4\",\"Huskies_M8\",\"Huskies_M1\",\"Huskies_M5\",\"Huskies_M3\",\"Huskies_M12\",\"Huskies_F5\",\"Huskies_M9\",\"Huskies_F6\",\"Huskies_M9\",\"Huskies_M11\",\"Huskies_M12\",\"Huskies_M3\",\"Huskies_M11\",\"Huskies_M4\",\"Huskies_M5\",\"Huskies_M8\",\"Huskies_M8\",\"Huskies_M4\",\"Huskies_M13\",\"Huskies_M8\",\"Huskies_M9\",\"Huskies_M6\",\"Huskies_M4\",\"Huskies_M3\",\"Huskies_M4\",\"Huskies_M4\",\"Huskies_M6\",\"Huskies_M7\",\"Huskies_M9\",\"Huskies_M8\",\"Huskies_M8\",\"Huskies_M9\"],\"start\":[\"Huskies_D1\",\"Huskies_D1\",\"Huskies_D1\",\"Huskies_D10\",\"Huskies_D10\",\"Huskies_D10\",\"Huskies_D2\",\"Huskies_D2\",\"Huskies_D2\",\"Huskies_D2\",\"Huskies_D2\",\"Huskies_D2\",\"Huskies_D2\",\"Huskies_D3\",\"Huskies_D3\",\"Huskies_D3\",\"Huskies_D3\",\"Huskies_D4\",\"Huskies_D5\",\"Huskies_D6\",\"Huskies_D7\",\"Huskies_F1\",\"Huskies_F1\",\"Huskies_F1\",\"Huskies_F1\",\"Huskies_F1\",\"Huskies_F1\",\"Huskies_F1\",\"Huskies_F1\",\"Huskies_F1\",\"Huskies_F1\",\"Huskies_F1\",\"Huskies_F1\",\"Huskies_F1\",\"Huskies_F1\",\"Huskies_F2\",\"Huskies_F2\",\"Huskies_F2\",\"Huskies_F2\",\"Huskies_F2\",\"Huskies_F2\",\"Huskies_F2\",\"Huskies_F2\",\"Huskies_F2\",\"Huskies_F2\",\"Huskies_F2\",\"Huskies_F2\",\"Huskies_F2\",\"Huskies_F3\",\"Huskies_F3\",\"Huskies_F3\",\"Huskies_F3\",\"Huskies_F4\",\"Huskies_F4\",\"Huskies_F4\",\"Huskies_F4\",\"Huskies_F4\",\"Huskies_F4\",\"Huskies_F5\",\"Huskies_M1\",\"Huskies_M1\",\"Huskies_M1\",\"Huskies_M1\",\"Huskies_M10\",\"Huskies_M10\",\"Huskies_M10\",\"Huskies_M10\",\"Huskies_M11\",\"Huskies_M11\",\"Huskies_M12\",\"Huskies_M12\",\"Huskies_M12\",\"Huskies_M12\",\"Huskies_M12\",\"Huskies_M13\",\"Huskies_M2\",\"Huskies_M3\",\"Huskies_M4\",\"Huskies_M4\",\"Huskies_M4\",\"Huskies_M4\",\"Huskies_M6\",\"Huskies_M8\"]},\"selected\":{\"id\":\"21251\",\"type\":\"Selection\"},\"selection_policy\":{\"id\":\"21252\",\"type\":\"UnionRenderers\"}},\"id\":\"20530\",\"type\":\"ColumnDataSource\"},{\"attributes\":{},\"id\":\"20506\",\"type\":\"PanTool\"},{\"attributes\":{},\"id\":\"21237\",\"type\":\"BasicTickFormatter\"},{\"attributes\":{\"callback\":null,\"end\":1.1,\"start\":-1.1},\"id\":\"20488\",\"type\":\"Range1d\"},{\"attributes\":{\"line_alpha\":{\"value\":0.8},\"line_color\":{\"field\":\"edge_color\"},\"line_width\":{\"value\":2}},\"id\":\"20539\",\"type\":\"MultiLine\"},{\"attributes\":{},\"id\":\"21253\",\"type\":\"Selection\"},{\"attributes\":{},\"id\":\"20507\",\"type\":\"WheelZoomTool\"},{\"attributes\":{},\"id\":\"21239\",\"type\":\"BasicTickFormatter\"},{\"attributes\":{},\"id\":\"20511\",\"type\":\"HelpTool\"},{\"attributes\":{},\"id\":\"20492\",\"type\":\"LinearScale\"},{\"attributes\":{},\"id\":\"21240\",\"type\":\"NodesOnly\"},{\"attributes\":{\"fill_color\":{\"field\":\"color\"},\"size\":{\"units\":\"screen\",\"value\":15}},\"id\":\"20534\",\"type\":\"Circle\"},{\"attributes\":{\"bottom_units\":\"screen\",\"fill_alpha\":{\"value\":0.5},\"fill_color\":{\"value\":\"lightgrey\"},\"left_units\":\"screen\",\"level\":\"overlay\",\"line_alpha\":{\"value\":1.0},\"line_color\":{\"value\":\"black\"},\"line_dash\":[4,4],\"line_width\":{\"value\":2},\"render_mode\":\"css\",\"right_units\":\"screen\",\"top_units\":\"screen\"},\"id\":\"21250\",\"type\":\"BoxAnnotation\"},{\"attributes\":{\"overlay\":{\"id\":\"21250\",\"type\":\"BoxAnnotation\"}},\"id\":\"20508\",\"type\":\"BoxZoomTool\"},{\"attributes\":{\"edge_renderer\":{\"id\":\"20531\",\"type\":\"GlyphRenderer\"},\"inspection_policy\":{\"id\":\"21240\",\"type\":\"NodesOnly\"},\"layout_provider\":{\"id\":\"20533\",\"type\":\"StaticLayoutProvider\"},\"node_renderer\":{\"id\":\"20527\",\"type\":\"GlyphRenderer\"},\"selection_policy\":{\"id\":\"21245\",\"type\":\"NodesOnly\"}},\"id\":\"20524\",\"type\":\"GraphRenderer\"},{\"attributes\":{\"source\":{\"id\":\"20530\",\"type\":\"ColumnDataSource\"}},\"id\":\"20532\",\"type\":\"CDSView\"},{\"attributes\":{},\"id\":\"20502\",\"type\":\"BasicTicker\"},{\"attributes\":{\"ticker\":{\"id\":\"20497\",\"type\":\"BasicTicker\"},\"visible\":false},\"id\":\"20500\",\"type\":\"Grid\"},{\"attributes\":{\"data_source\":{\"id\":\"20530\",\"type\":\"ColumnDataSource\"},\"glyph\":{\"id\":\"20539\",\"type\":\"MultiLine\"},\"hover_glyph\":null,\"muted_glyph\":null,\"view\":{\"id\":\"20532\",\"type\":\"CDSView\"}},\"id\":\"20531\",\"type\":\"GlyphRenderer\"},{\"attributes\":{},\"id\":\"21245\",\"type\":\"NodesOnly\"},{\"attributes\":{\"dimension\":1,\"ticker\":{\"id\":\"20502\",\"type\":\"BasicTicker\"},\"visible\":false},\"id\":\"20505\",\"type\":\"Grid\"}],\"root_ids\":[\"20489\"]},\"title\":\"Bokeh Application\",\"version\":\"1.4.0\"}};\n",
       "  var render_items = [{\"docid\":\"9527d8a4-a483-45af-868c-855fb1ddaedd\",\"roots\":{\"20489\":\"e96b530b-62ed-4377-b564-161ceccc0285\"}}];\n",
       "  root.Bokeh.embed.embed_items_notebook(docs_json, render_items);\n",
       "\n",
       "  }\n",
       "  if (root.Bokeh !== undefined) {\n",
       "    embed_document(root);\n",
       "  } else {\n",
       "    var attempts = 0;\n",
       "    var timer = setInterval(function(root) {\n",
       "      if (root.Bokeh !== undefined) {\n",
       "        clearInterval(timer);\n",
       "        embed_document(root);\n",
       "      } else {\n",
       "        attempts++;\n",
       "        if (attempts > 100) {\n",
       "          clearInterval(timer);\n",
       "          console.log(\"Bokeh: ERROR: Unable to run BokehJS code because BokehJS library is missing\");\n",
       "        }\n",
       "      }\n",
       "    }, 10, root)\n",
       "  }\n",
       "})(window);"
      ],
      "application/vnd.bokehjs_exec.v0+json": ""
     },
     "metadata": {
      "application/vnd.bokehjs_exec.v0+json": {
       "id": "20489"
      }
     },
     "output_type": "display_data"
    }
   ],
   "source": [
    "plot2 = Figure(plot_width=800, plot_height=600,\n",
    "            x_range=Range1d(-1.1, 1.1), y_range=Range1d(-1.1, 1.1))\n",
    "plot2.title.text = \"Substitutions of Huskies Players\"\n",
    "plot2.xgrid.visible = False\n",
    "plot2.ygrid.visible = False\n",
    "\n",
    "node_hover_tool = HoverTool(tooltips=[(\"index\", \"@index\")])\n",
    "plot2.add_tools(node_hover_tool)\n",
    "#plot.add_tools(node_hover_tool, PanTool(), WheelZoomTool(), ResetTool())\n",
    "\n",
    "graph_renderer = from_networkx(gsub, nx.spring_layout, scale=1, center=(0, 0))\n",
    "\n",
    "graph_renderer.node_renderer.glyph = Circle(size=15, fill_color=\"color\")\n",
    "\n",
    "graph_renderer.edge_renderer.glyph = MultiLine(line_color=\"edge_color\", line_alpha=0.8, line_width=2)\n",
    "plot2.renderers.append(graph_renderer)\n",
    "\n",
    "#for n, c in event_colors.items():\n",
    "    #plot.line(0, 0, color=c, legend_label=n)\n",
    "\n",
    "#legend = Legend(items=[LegendItem(label=name, renderers=[Line(line_color=color, line_alpha=0.8, line_width=2)]) for (name, color) in event_colors.items()])\n",
    "\n",
    "show(plot2)"
   ]
  },
  {
   "cell_type": "code",
   "execution_count": 12,
   "metadata": {},
   "outputs": [
    {
     "data": {
      "text/html": [
       "\n",
       "\n",
       "\n",
       "\n",
       "\n",
       "\n",
       "  <div class=\"bk-root\" id=\"91d15e97-3e49-4808-9cde-bb9ce45bbbbc\" data-root-id=\"1924\"></div>\n"
      ]
     },
     "metadata": {},
     "output_type": "display_data"
    },
    {
     "data": {
      "application/javascript": [
       "(function(root) {\n",
       "  function embed_document(root) {\n",
       "    \n",
       "  var docs_json = {\"51bb2051-25bb-4f5c-9b07-31e45db1562d\":{\"roots\":{\"references\":[{\"attributes\":{\"below\":[{\"id\":\"1931\",\"type\":\"LinearAxis\"}],\"center\":[{\"id\":\"1935\",\"type\":\"Grid\"},{\"id\":\"1940\",\"type\":\"Grid\"}],\"left\":[{\"id\":\"1936\",\"type\":\"LinearAxis\"}],\"plot_width\":800,\"renderers\":[{\"id\":\"1958\",\"type\":\"GraphRenderer\"}],\"title\":{\"id\":\"2029\",\"type\":\"Title\"},\"toolbar\":{\"id\":\"1947\",\"type\":\"Toolbar\"},\"x_range\":{\"id\":\"1922\",\"type\":\"Range1d\"},\"x_scale\":{\"id\":\"1927\",\"type\":\"LinearScale\"},\"y_range\":{\"id\":\"1923\",\"type\":\"Range1d\"},\"y_scale\":{\"id\":\"1929\",\"type\":\"LinearScale\"}},\"id\":\"1924\",\"subtype\":\"Figure\",\"type\":\"Plot\"},{\"attributes\":{\"source\":{\"id\":\"1964\",\"type\":\"ColumnDataSource\"}},\"id\":\"1966\",\"type\":\"CDSView\"},{\"attributes\":{},\"id\":\"2048\",\"type\":\"Selection\"},{\"attributes\":{},\"id\":\"1937\",\"type\":\"BasicTicker\"},{\"attributes\":{\"fill_color\":{\"field\":\"color\"},\"size\":{\"units\":\"screen\",\"value\":15}},\"id\":\"1968\",\"type\":\"Circle\"},{\"attributes\":{\"text\":\"\"},\"id\":\"2029\",\"type\":\"Title\"},{\"attributes\":{},\"id\":\"1942\",\"type\":\"WheelZoomTool\"},{\"attributes\":{},\"id\":\"2046\",\"type\":\"Selection\"},{\"attributes\":{\"overlay\":{\"id\":\"2045\",\"type\":\"BoxAnnotation\"}},\"id\":\"1943\",\"type\":\"BoxZoomTool\"},{\"attributes\":{\"callback\":null,\"data\":{\"edge_color\":[\"#fdae61\",\"#fdae61\",\"#fdae61\",\"#fdae61\",\"#fdae61\",\"#fdae61\",\"#fdae61\",\"#fdae61\",\"#fdae61\",\"#fdae61\",\"#fdae61\",\"#fdae61\",\"#fdae61\",\"#fdae61\",\"#fdae61\",\"#fdae61\",\"#fdae61\",\"#fdae61\",\"#fdae61\",\"#fdae61\",\"#fdae61\",\"#fdae61\",\"#fdae61\",\"#fdae61\",\"#fdae61\",\"#fdae61\",\"#fdae61\",\"#fdae61\",\"#fdae61\",\"#fdae61\",\"#fdae61\",\"#fdae61\",\"#fdae61\",\"#fdae61\",\"#fdae61\",\"#fdae61\",\"#fdae61\",\"#fdae61\",\"#fdae61\",\"#fdae61\",\"#fdae61\",\"#fdae61\",\"#fdae61\",\"#fdae61\",\"#fdae61\",\"#fdae61\",\"#fdae61\",\"#fdae61\",\"#fdae61\",\"#fdae61\",\"#fdae61\",\"#fdae61\",\"#fdae61\",\"#fdae61\",\"#fdae61\",\"#fdae61\",\"#fdae61\",\"#fdae61\",\"#fdae61\",\"#fdae61\",\"#fdae61\",\"#fdae61\",\"#fdae61\",\"#fdae61\",\"#fdae61\",\"#fdae61\",\"#fdae61\",\"#fdae61\",\"#fdae61\",\"#fdae61\",\"#fdae61\",\"#fdae61\",\"#fdae61\",\"#fdae61\",\"#fdae61\",\"#fdae61\",\"#fdae61\",\"#fdae61\",\"#fdae61\",\"#fdae61\",\"#fdae61\",\"#fdae61\",\"#fdae61\",\"#fdae61\",\"#fdae61\",\"#fdae61\",\"#fdae61\",\"#fdae61\",\"#fdae61\",\"#fdae61\",\"#fdae61\",\"#fdae61\",\"#fdae61\",\"#fdae61\",\"#fdae61\",\"#fdae61\",\"#fdae61\",\"#fdae61\",\"#fdae61\",\"#fdae61\",\"#fdae61\",\"#fdae61\",\"#fdae61\",\"#fdae61\",\"#fdae61\",\"#fdae61\",\"#fdae61\",\"#fdae61\",\"#fdae61\",\"#fdae61\",\"#fdae61\",\"#fdae61\",\"#fdae61\",\"#fdae61\",\"#fdae61\",\"#fdae61\",\"#fdae61\",\"#fdae61\",\"#fdae61\",\"#fdae61\",\"#fdae61\",\"#fdae61\",\"#fdae61\",\"#fdae61\",\"#fdae61\",\"#fdae61\",\"#fdae61\",\"#fdae61\",\"#fdae61\",\"#fdae61\",\"#fdae61\",\"#fdae61\",\"#fdae61\",\"#fdae61\",\"#fdae61\",\"#fdae61\",\"#fdae61\",\"#fdae61\",\"#fdae61\",\"#fdae61\",\"#fdae61\",\"#fdae61\",\"#fdae61\",\"#fdae61\",\"#fdae61\",\"#fdae61\",\"#fdae61\",\"#fdae61\",\"#fdae61\",\"#fdae61\",\"#fdae61\",\"#fdae61\",\"#fdae61\",\"#fdae61\",\"#fdae61\",\"#fdae61\",\"#fdae61\",\"#fdae61\",\"#fdae61\",\"#fdae61\",\"#fdae61\",\"#fdae61\",\"#fdae61\",\"#fdae61\"],\"end\":[\"Huskies_D1\",\"Huskies_F2\",\"Huskies_M3\",\"Huskies_M1\",\"Huskies_D5\",\"Huskies_D4\",\"Huskies_M9\",\"Huskies_M4\",\"Huskies_M11\",\"Huskies_M12\",\"Huskies_D3\",\"Huskies_D2\",\"Huskies_D6\",\"Huskies_F5\",\"Huskies_M8\",\"Huskies_D10\",\"Huskies_D8\",\"Huskies_F5\",\"Huskies_D10\",\"Huskies_M1\",\"Huskies_D3\",\"Huskies_M1\",\"Huskies_M3\",\"Huskies_D6\",\"Huskies_F1\",\"Huskies_D2\",\"Huskies_D4\",\"Huskies_D5\",\"Huskies_M4\",\"Huskies_M13\",\"Huskies_F4\",\"Huskies_D7\",\"Huskies_F2\",\"Huskies_G1\",\"Huskies_F6\",\"Huskies_F2\",\"Huskies_M3\",\"Huskies_D7\",\"Huskies_M11\",\"Huskies_M4\",\"Huskies_M8\",\"Huskies_M12\",\"Huskies_M13\",\"Huskies_D3\",\"Huskies_D4\",\"Huskies_M1\",\"Huskies_M2\",\"Huskies_F2\",\"Huskies_D4\",\"Huskies_M6\",\"Huskies_M1\",\"Huskies_M12\",\"Huskies_F1\",\"Huskies_M3\",\"Huskies_M9\",\"Huskies_D5\",\"Huskies_M1\",\"Huskies_M8\",\"Huskies_M4\",\"Huskies_M3\",\"Huskies_F2\",\"Huskies_M9\",\"Huskies_M12\",\"Huskies_D9\",\"Huskies_M6\",\"Huskies_F1\",\"Huskies_D6\",\"Huskies_F1\",\"Huskies_G1\",\"Huskies_M1\",\"Huskies_F4\",\"Huskies_D7\",\"Huskies_M4\",\"Huskies_M3\",\"Huskies_F5\",\"Huskies_F2\",\"Huskies_M4\",\"Huskies_F1\",\"Huskies_M11\",\"Huskies_D7\",\"Huskies_M1\",\"Huskies_G1\",\"Huskies_M9\",\"Huskies_M8\",\"Huskies_M10\",\"Huskies_M3\",\"Huskies_F6\",\"Huskies_D9\",\"Huskies_F4\",\"Huskies_D8\",\"Huskies_F6\",\"Huskies_M4\",\"Huskies_M1\",\"Huskies_M3\",\"Huskies_F5\",\"Huskies_F4\",\"Huskies_M12\",\"Huskies_M3\",\"Huskies_D9\",\"Huskies_F2\",\"Huskies_F1\",\"Huskies_M6\",\"Huskies_M9\",\"Huskies_F4\",\"Huskies_M4\",\"Huskies_M10\",\"Huskies_M8\",\"Huskies_F3\",\"Huskies_M3\",\"Huskies_F5\",\"Huskies_F3\",\"Huskies_F2\",\"Huskies_M2\",\"Huskies_M3\",\"Huskies_M8\",\"Huskies_M1\",\"Huskies_M6\",\"Huskies_F3\",\"Huskies_F4\",\"Huskies_M4\",\"Huskies_M6\",\"Huskies_M3\",\"Huskies_F6\",\"Huskies_M6\",\"Huskies_F5\",\"Huskies_M8\",\"Huskies_M4\",\"Huskies_M12\",\"Huskies_F6\",\"Huskies_M1\",\"Huskies_M9\",\"Huskies_M3\",\"Huskies_F6\",\"Huskies_M1\",\"Huskies_M6\",\"Huskies_G1\",\"Huskies_M3\",\"Huskies_M6\",\"Huskies_M4\",\"Huskies_M1\",\"Huskies_M9\",\"Huskies_M8\",\"Huskies_M12\",\"Huskies_M10\",\"Huskies_M3\",\"Huskies_M6\",\"Huskies_M12\",\"Huskies_M13\",\"Huskies_M8\",\"Huskies_M4\",\"Huskies_M13\",\"Huskies_M3\",\"Huskies_M6\",\"Huskies_M3\",\"Huskies_M9\",\"Huskies_M4\",\"Huskies_M6\",\"Huskies_M4\",\"Huskies_M9\",\"Huskies_M6\",\"Huskies_M9\",\"Huskies_M8\",\"Huskies_M8\",\"Huskies_M9\"],\"start\":[\"Huskies_D1\",\"Huskies_D1\",\"Huskies_D1\",\"Huskies_D1\",\"Huskies_D1\",\"Huskies_D1\",\"Huskies_D1\",\"Huskies_D1\",\"Huskies_D1\",\"Huskies_D1\",\"Huskies_D1\",\"Huskies_D1\",\"Huskies_D1\",\"Huskies_D1\",\"Huskies_D1\",\"Huskies_D1\",\"Huskies_D1\",\"Huskies_D10\",\"Huskies_D10\",\"Huskies_D10\",\"Huskies_D2\",\"Huskies_D2\",\"Huskies_D2\",\"Huskies_D2\",\"Huskies_D2\",\"Huskies_D2\",\"Huskies_D2\",\"Huskies_D2\",\"Huskies_D2\",\"Huskies_D2\",\"Huskies_D2\",\"Huskies_D2\",\"Huskies_D2\",\"Huskies_D2\",\"Huskies_D2\",\"Huskies_D3\",\"Huskies_D3\",\"Huskies_D3\",\"Huskies_D3\",\"Huskies_D3\",\"Huskies_D3\",\"Huskies_D3\",\"Huskies_D3\",\"Huskies_D3\",\"Huskies_D3\",\"Huskies_D3\",\"Huskies_D3\",\"Huskies_D4\",\"Huskies_D4\",\"Huskies_D4\",\"Huskies_D4\",\"Huskies_D4\",\"Huskies_D4\",\"Huskies_D4\",\"Huskies_D4\",\"Huskies_D5\",\"Huskies_D5\",\"Huskies_D5\",\"Huskies_D5\",\"Huskies_D5\",\"Huskies_D5\",\"Huskies_D5\",\"Huskies_D5\",\"Huskies_D5\",\"Huskies_D5\",\"Huskies_D5\",\"Huskies_D6\",\"Huskies_D6\",\"Huskies_D6\",\"Huskies_D6\",\"Huskies_D6\",\"Huskies_D6\",\"Huskies_D6\",\"Huskies_D6\",\"Huskies_D6\",\"Huskies_D6\",\"Huskies_D7\",\"Huskies_D7\",\"Huskies_D7\",\"Huskies_D7\",\"Huskies_D7\",\"Huskies_D7\",\"Huskies_D7\",\"Huskies_D7\",\"Huskies_D7\",\"Huskies_D7\",\"Huskies_D7\",\"Huskies_D7\",\"Huskies_D7\",\"Huskies_D8\",\"Huskies_D8\",\"Huskies_D8\",\"Huskies_D8\",\"Huskies_D8\",\"Huskies_D8\",\"Huskies_D8\",\"Huskies_D9\",\"Huskies_D9\",\"Huskies_D9\",\"Huskies_F1\",\"Huskies_F1\",\"Huskies_F1\",\"Huskies_F1\",\"Huskies_F1\",\"Huskies_F1\",\"Huskies_F1\",\"Huskies_F1\",\"Huskies_F1\",\"Huskies_F1\",\"Huskies_F1\",\"Huskies_F2\",\"Huskies_F2\",\"Huskies_F2\",\"Huskies_F2\",\"Huskies_F2\",\"Huskies_F2\",\"Huskies_F3\",\"Huskies_F3\",\"Huskies_F4\",\"Huskies_F4\",\"Huskies_F4\",\"Huskies_F4\",\"Huskies_F4\",\"Huskies_F5\",\"Huskies_F5\",\"Huskies_F5\",\"Huskies_F5\",\"Huskies_F5\",\"Huskies_F5\",\"Huskies_F5\",\"Huskies_F5\",\"Huskies_F6\",\"Huskies_F6\",\"Huskies_F6\",\"Huskies_F6\",\"Huskies_G1\",\"Huskies_M1\",\"Huskies_M1\",\"Huskies_M1\",\"Huskies_M1\",\"Huskies_M1\",\"Huskies_M1\",\"Huskies_M1\",\"Huskies_M10\",\"Huskies_M10\",\"Huskies_M11\",\"Huskies_M12\",\"Huskies_M12\",\"Huskies_M12\",\"Huskies_M12\",\"Huskies_M13\",\"Huskies_M2\",\"Huskies_M3\",\"Huskies_M3\",\"Huskies_M3\",\"Huskies_M3\",\"Huskies_M4\",\"Huskies_M4\",\"Huskies_M4\",\"Huskies_M6\",\"Huskies_M6\",\"Huskies_M6\",\"Huskies_M8\",\"Huskies_M9\"]},\"selected\":{\"id\":\"2046\",\"type\":\"Selection\"},\"selection_policy\":{\"id\":\"2047\",\"type\":\"UnionRenderers\"}},\"id\":\"1964\",\"type\":\"ColumnDataSource\"},{\"attributes\":{},\"id\":\"1944\",\"type\":\"SaveTool\"},{\"attributes\":{},\"id\":\"1929\",\"type\":\"LinearScale\"},{\"attributes\":{},\"id\":\"1945\",\"type\":\"ResetTool\"},{\"attributes\":{},\"id\":\"1946\",\"type\":\"HelpTool\"},{\"attributes\":{\"callback\":null,\"tooltips\":[[\"index\",\"@index\"]]},\"id\":\"1954\",\"type\":\"HoverTool\"},{\"attributes\":{},\"id\":\"2034\",\"type\":\"BasicTickFormatter\"},{\"attributes\":{\"edge_renderer\":{\"id\":\"1965\",\"type\":\"GlyphRenderer\"},\"inspection_policy\":{\"id\":\"2035\",\"type\":\"NodesOnly\"},\"layout_provider\":{\"id\":\"1967\",\"type\":\"StaticLayoutProvider\"},\"node_renderer\":{\"id\":\"1961\",\"type\":\"GlyphRenderer\"},\"selection_policy\":{\"id\":\"2040\",\"type\":\"NodesOnly\"}},\"id\":\"1958\",\"type\":\"GraphRenderer\"},{\"attributes\":{},\"id\":\"2047\",\"type\":\"UnionRenderers\"},{\"attributes\":{\"ticker\":{\"id\":\"1932\",\"type\":\"BasicTicker\"},\"visible\":false},\"id\":\"1935\",\"type\":\"Grid\"},{\"attributes\":{},\"id\":\"2035\",\"type\":\"NodesOnly\"},{\"attributes\":{\"callback\":null,\"end\":1.1,\"start\":-1.1},\"id\":\"1923\",\"type\":\"Range1d\"},{\"attributes\":{},\"id\":\"2032\",\"type\":\"BasicTickFormatter\"},{\"attributes\":{\"callback\":null,\"data\":{\"color\":[\"#abdda4\",\"#abdda4\",\"#abdda4\",\"#abdda4\",\"#abdda4\",\"#abdda4\",\"#abdda4\",\"#abdda4\",\"#abdda4\",\"#abdda4\",\"#abdda4\",\"#abdda4\",\"#abdda4\",\"#abdda4\",\"#abdda4\",\"#abdda4\",\"#abdda4\",\"#abdda4\",\"#abdda4\",\"#abdda4\",\"#abdda4\",\"#abdda4\",\"#abdda4\",\"#abdda4\",\"#abdda4\",\"#abdda4\",\"#abdda4\",\"#abdda4\",\"#abdda4\",\"#abdda4\"],\"index\":[\"Huskies_D1\",\"Huskies_D10\",\"Huskies_D2\",\"Huskies_D3\",\"Huskies_D4\",\"Huskies_D5\",\"Huskies_D6\",\"Huskies_D7\",\"Huskies_D8\",\"Huskies_D9\",\"Huskies_F1\",\"Huskies_F2\",\"Huskies_F3\",\"Huskies_F4\",\"Huskies_F5\",\"Huskies_F6\",\"Huskies_G1\",\"Huskies_M1\",\"Huskies_M10\",\"Huskies_M11\",\"Huskies_M12\",\"Huskies_M13\",\"Huskies_M2\",\"Huskies_M3\",\"Huskies_M4\",\"Huskies_M5\",\"Huskies_M6\",\"Huskies_M7\",\"Huskies_M8\",\"Huskies_M9\"]},\"selected\":{\"id\":\"2048\",\"type\":\"Selection\"},\"selection_policy\":{\"id\":\"2049\",\"type\":\"UnionRenderers\"}},\"id\":\"1960\",\"type\":\"ColumnDataSource\"},{\"attributes\":{\"callback\":null,\"end\":1.1,\"start\":-1.1},\"id\":\"1922\",\"type\":\"Range1d\"},{\"attributes\":{\"data_source\":{\"id\":\"1960\",\"type\":\"ColumnDataSource\"},\"glyph\":{\"id\":\"1968\",\"type\":\"Circle\"},\"hover_glyph\":null,\"muted_glyph\":null,\"view\":{\"id\":\"1962\",\"type\":\"CDSView\"}},\"id\":\"1961\",\"type\":\"GlyphRenderer\"},{\"attributes\":{},\"id\":\"1927\",\"type\":\"LinearScale\"},{\"attributes\":{\"line_alpha\":{\"value\":0.8},\"line_color\":{\"field\":\"edge_color\"}},\"id\":\"1973\",\"type\":\"MultiLine\"},{\"attributes\":{\"formatter\":{\"id\":\"2034\",\"type\":\"BasicTickFormatter\"},\"ticker\":{\"id\":\"1937\",\"type\":\"BasicTicker\"}},\"id\":\"1936\",\"type\":\"LinearAxis\"},{\"attributes\":{},\"id\":\"1932\",\"type\":\"BasicTicker\"},{\"attributes\":{},\"id\":\"2040\",\"type\":\"NodesOnly\"},{\"attributes\":{\"formatter\":{\"id\":\"2032\",\"type\":\"BasicTickFormatter\"},\"ticker\":{\"id\":\"1932\",\"type\":\"BasicTicker\"}},\"id\":\"1931\",\"type\":\"LinearAxis\"},{\"attributes\":{\"dimension\":1,\"ticker\":{\"id\":\"1937\",\"type\":\"BasicTicker\"},\"visible\":false},\"id\":\"1940\",\"type\":\"Grid\"},{\"attributes\":{\"bottom_units\":\"screen\",\"fill_alpha\":{\"value\":0.5},\"fill_color\":{\"value\":\"lightgrey\"},\"left_units\":\"screen\",\"level\":\"overlay\",\"line_alpha\":{\"value\":1.0},\"line_color\":{\"value\":\"black\"},\"line_dash\":[4,4],\"line_width\":{\"value\":2},\"render_mode\":\"css\",\"right_units\":\"screen\",\"top_units\":\"screen\"},\"id\":\"2045\",\"type\":\"BoxAnnotation\"},{\"attributes\":{\"active_drag\":\"auto\",\"active_inspect\":\"auto\",\"active_multi\":null,\"active_scroll\":\"auto\",\"active_tap\":\"auto\",\"tools\":[{\"id\":\"1941\",\"type\":\"PanTool\"},{\"id\":\"1942\",\"type\":\"WheelZoomTool\"},{\"id\":\"1943\",\"type\":\"BoxZoomTool\"},{\"id\":\"1944\",\"type\":\"SaveTool\"},{\"id\":\"1945\",\"type\":\"ResetTool\"},{\"id\":\"1946\",\"type\":\"HelpTool\"},{\"id\":\"1954\",\"type\":\"HoverTool\"}]},\"id\":\"1947\",\"type\":\"Toolbar\"},{\"attributes\":{\"source\":{\"id\":\"1960\",\"type\":\"ColumnDataSource\"}},\"id\":\"1962\",\"type\":\"CDSView\"},{\"attributes\":{},\"id\":\"2049\",\"type\":\"UnionRenderers\"},{\"attributes\":{},\"id\":\"1941\",\"type\":\"PanTool\"},{\"attributes\":{\"data_source\":{\"id\":\"1964\",\"type\":\"ColumnDataSource\"},\"glyph\":{\"id\":\"1973\",\"type\":\"MultiLine\"},\"hover_glyph\":null,\"muted_glyph\":null,\"view\":{\"id\":\"1966\",\"type\":\"CDSView\"}},\"id\":\"1965\",\"type\":\"GlyphRenderer\"},{\"attributes\":{\"graph_layout\":{\"Huskies_D1\":[0.09410355983754126,0.04189813254402734],\"Huskies_D10\":[0.23274629233232622,0.019546193986338334],\"Huskies_D2\":[0.01548729564322411,0.02779303329169254],\"Huskies_D3\":[0.034058976490834045,0.09504617140528132],\"Huskies_D4\":[0.09031196643337658,0.07746521465115112],\"Huskies_D5\":[0.03753904297215047,0.012695772894474504],\"Huskies_D6\":[0.02046730257121928,-0.01166892940021361],\"Huskies_D7\":[0.01132315380512321,-0.03219560846674576],\"Huskies_D8\":[0.15853797318296758,-0.0682027609544512],\"Huskies_D9\":[-0.05842945997101569,-0.03528708869562383],\"Huskies_F1\":[0.10021099785265537,-0.008020673909633265],\"Huskies_F2\":[0.10584266363048962,0.09459542519029696],\"Huskies_F3\":[0.2133184009849725,0.09660237660591021],\"Huskies_F4\":[0.07221153584455246,-0.07823786526128788],\"Huskies_F5\":[0.1453112393989141,-0.0022829472734376965],\"Huskies_F6\":[0.12535635695286565,-0.05929272253373881],\"Huskies_G1\":[-0.10413435837490043,-0.018086777472909023],\"Huskies_M1\":[0.10295323990874324,0.01726607552823253],\"Huskies_M10\":[0.03173420716711394,-0.13201866019855843],\"Huskies_M11\":[-0.009233246413313979,0.10085427986792361],\"Huskies_M12\":[0.0070746086868278815,0.05926494279563848],\"Huskies_M13\":[-0.06230477676606144,0.14628875095102936],\"Huskies_M2\":[0.08248455121455632,0.1782633387979166],\"Huskies_M3\":[0.0647250027178128,0.0049459061183762185],\"Huskies_M4\":[0.06441521396394162,-0.025789051259340633],\"Huskies_M5\":[-0.873250467110588,-0.5497023567899719],\"Huskies_M6\":[0.13037467272683292,0.033179664654984425],\"Huskies_M7\":[-1.0,-0.012913247256244893],\"Huskies_M8\":[0.06301634709089718,0.06779585407849278],\"Huskies_M9\":[0.10374770722594114,-0.03980244388961027]}},\"id\":\"1967\",\"type\":\"StaticLayoutProvider\"}],\"root_ids\":[\"1924\"]},\"title\":\"Bokeh Application\",\"version\":\"1.4.0\"}};\n",
       "  var render_items = [{\"docid\":\"51bb2051-25bb-4f5c-9b07-31e45db1562d\",\"roots\":{\"1924\":\"91d15e97-3e49-4808-9cde-bb9ce45bbbbc\"}}];\n",
       "  root.Bokeh.embed.embed_items_notebook(docs_json, render_items);\n",
       "\n",
       "  }\n",
       "  if (root.Bokeh !== undefined) {\n",
       "    embed_document(root);\n",
       "  } else {\n",
       "    var attempts = 0;\n",
       "    var timer = setInterval(function(root) {\n",
       "      if (root.Bokeh !== undefined) {\n",
       "        clearInterval(timer);\n",
       "        embed_document(root);\n",
       "      } else {\n",
       "        attempts++;\n",
       "        if (attempts > 100) {\n",
       "          clearInterval(timer);\n",
       "          console.log(\"Bokeh: ERROR: Unable to run BokehJS code because BokehJS library is missing\");\n",
       "        }\n",
       "      }\n",
       "    }, 10, root)\n",
       "  }\n",
       "})(window);"
      ],
      "application/vnd.bokehjs_exec.v0+json": ""
     },
     "metadata": {
      "application/vnd.bokehjs_exec.v0+json": {
       "id": "1924"
      }
     },
     "output_type": "display_data"
    }
   ],
   "source": [
    "gDuel = nx.Graph()\n",
    "\n",
    "for i in players:\n",
    "    #colors of nodes can be changed here\n",
    "    if 'Husk' in i:\n",
    "        c = Spectral4[1]\n",
    "    else:\n",
    "        c = Spectral4[0]\n",
    "        break\n",
    "    \n",
    "    gDuel.add_node(i, color=c)\n",
    "    \n",
    "    \n",
    "for index, row in df.iterrows():\n",
    "    if (row.EventType == \"Duel\" and df.EventType[index+1] == \"Duel\"):\n",
    "        dueler = df.OriginPlayerID[index + 1]\n",
    "        if ('Husk' in row.OriginPlayerID) and ('Husk' in dueler):\n",
    "            gDuel.add_edge(row.OriginPlayerID, dueler, edge_color=Spectral4[2])\n",
    "            \n",
    "            \n",
    "        "
   ]
  },
  {
   "cell_type": "code",
   "execution_count": 11,
   "metadata": {},
   "outputs": [
    {
     "data": {
      "text/html": [
       "\n",
       "\n",
       "\n",
       "\n",
       "\n",
       "\n",
       "  <div class=\"bk-root\" id=\"9eeb57e6-7d22-4ad1-8a9f-50bbd66d4c0c\" data-root-id=\"1780\"></div>\n"
      ]
     },
     "metadata": {},
     "output_type": "display_data"
    },
    {
     "data": {
      "application/javascript": [
       "(function(root) {\n",
       "  function embed_document(root) {\n",
       "    \n",
       "  var docs_json = {\"026424f0-9a9f-48cd-b41d-d904c74c111a\":{\"roots\":{\"references\":[{\"attributes\":{\"below\":[{\"id\":\"1791\",\"type\":\"LinearAxis\"}],\"center\":[{\"id\":\"1795\",\"type\":\"Grid\"},{\"id\":\"1800\",\"type\":\"Grid\"}],\"left\":[{\"id\":\"1796\",\"type\":\"LinearAxis\"}],\"plot_width\":800,\"renderers\":[{\"id\":\"1819\",\"type\":\"GlyphRenderer\"}],\"title\":{\"id\":\"1781\",\"type\":\"Title\"},\"toolbar\":{\"id\":\"1807\",\"type\":\"Toolbar\"},\"x_range\":{\"id\":\"1783\",\"type\":\"DataRange1d\"},\"x_scale\":{\"id\":\"1787\",\"type\":\"LinearScale\"},\"y_range\":{\"id\":\"1785\",\"type\":\"DataRange1d\"},\"y_scale\":{\"id\":\"1789\",\"type\":\"LinearScale\"}},\"id\":\"1780\",\"subtype\":\"Figure\",\"type\":\"Plot\"},{\"attributes\":{\"fill_color\":{\"field\":\"c\",\"transform\":{\"id\":\"1814\",\"type\":\"LinearColorMapper\"}},\"q\":{\"field\":\"q\"},\"r\":{\"field\":\"r\"},\"size\":2},\"id\":\"1817\",\"type\":\"HexTile\"},{\"attributes\":{\"text\":\"Destination Events\"},\"id\":\"1781\",\"type\":\"Title\"},{\"attributes\":{\"callback\":null,\"point_policy\":\"follow_mouse\",\"renderers\":[{\"id\":\"1819\",\"type\":\"GlyphRenderer\"}],\"tooltips\":[[\"count\",\"@c\"],[\"(q,r)\",\"(@q, @r)\"]]},\"id\":\"1821\",\"type\":\"HoverTool\"},{\"attributes\":{},\"id\":\"1789\",\"type\":\"LinearScale\"},{\"attributes\":{},\"id\":\"1801\",\"type\":\"PanTool\"},{\"attributes\":{},\"id\":\"1872\",\"type\":\"UnionRenderers\"},{\"attributes\":{},\"id\":\"1792\",\"type\":\"BasicTicker\"},{\"attributes\":{\"ticker\":{\"id\":\"1792\",\"type\":\"BasicTicker\"},\"visible\":false},\"id\":\"1795\",\"type\":\"Grid\"},{\"attributes\":{},\"id\":\"1805\",\"type\":\"ResetTool\"},{\"attributes\":{\"active_drag\":\"auto\",\"active_inspect\":\"auto\",\"active_multi\":null,\"active_scroll\":\"auto\",\"active_tap\":\"auto\",\"tools\":[{\"id\":\"1801\",\"type\":\"PanTool\"},{\"id\":\"1802\",\"type\":\"WheelZoomTool\"},{\"id\":\"1803\",\"type\":\"BoxZoomTool\"},{\"id\":\"1804\",\"type\":\"SaveTool\"},{\"id\":\"1805\",\"type\":\"ResetTool\"},{\"id\":\"1806\",\"type\":\"HelpTool\"},{\"id\":\"1821\",\"type\":\"HoverTool\"}]},\"id\":\"1807\",\"type\":\"Toolbar\"},{\"attributes\":{\"callback\":null},\"id\":\"1785\",\"type\":\"DataRange1d\"},{\"attributes\":{},\"id\":\"1802\",\"type\":\"WheelZoomTool\"},{\"attributes\":{\"overlay\":{\"id\":\"1873\",\"type\":\"BoxAnnotation\"}},\"id\":\"1803\",\"type\":\"BoxZoomTool\"},{\"attributes\":{},\"id\":\"1804\",\"type\":\"SaveTool\"},{\"attributes\":{},\"id\":\"1870\",\"type\":\"BasicTickFormatter\"},{\"attributes\":{\"high\":911,\"low\":0,\"palette\":[\"#440154\",\"#440255\",\"#440357\",\"#450558\",\"#45065A\",\"#45085B\",\"#46095C\",\"#460B5E\",\"#460C5F\",\"#460E61\",\"#470F62\",\"#471163\",\"#471265\",\"#471466\",\"#471567\",\"#471669\",\"#47186A\",\"#48196B\",\"#481A6C\",\"#481C6E\",\"#481D6F\",\"#481E70\",\"#482071\",\"#482172\",\"#482273\",\"#482374\",\"#472575\",\"#472676\",\"#472777\",\"#472878\",\"#472A79\",\"#472B7A\",\"#472C7B\",\"#462D7C\",\"#462F7C\",\"#46307D\",\"#46317E\",\"#45327F\",\"#45347F\",\"#453580\",\"#453681\",\"#443781\",\"#443982\",\"#433A83\",\"#433B83\",\"#433C84\",\"#423D84\",\"#423E85\",\"#424085\",\"#414186\",\"#414286\",\"#404387\",\"#404487\",\"#3F4587\",\"#3F4788\",\"#3E4888\",\"#3E4989\",\"#3D4A89\",\"#3D4B89\",\"#3D4C89\",\"#3C4D8A\",\"#3C4E8A\",\"#3B508A\",\"#3B518A\",\"#3A528B\",\"#3A538B\",\"#39548B\",\"#39558B\",\"#38568B\",\"#38578C\",\"#37588C\",\"#37598C\",\"#365A8C\",\"#365B8C\",\"#355C8C\",\"#355D8C\",\"#345E8D\",\"#345F8D\",\"#33608D\",\"#33618D\",\"#32628D\",\"#32638D\",\"#31648D\",\"#31658D\",\"#31668D\",\"#30678D\",\"#30688D\",\"#2F698D\",\"#2F6A8D\",\"#2E6B8E\",\"#2E6C8E\",\"#2E6D8E\",\"#2D6E8E\",\"#2D6F8E\",\"#2C708E\",\"#2C718E\",\"#2C728E\",\"#2B738E\",\"#2B748E\",\"#2A758E\",\"#2A768E\",\"#2A778E\",\"#29788E\",\"#29798E\",\"#287A8E\",\"#287A8E\",\"#287B8E\",\"#277C8E\",\"#277D8E\",\"#277E8E\",\"#267F8E\",\"#26808E\",\"#26818E\",\"#25828E\",\"#25838D\",\"#24848D\",\"#24858D\",\"#24868D\",\"#23878D\",\"#23888D\",\"#23898D\",\"#22898D\",\"#228A8D\",\"#228B8D\",\"#218C8D\",\"#218D8C\",\"#218E8C\",\"#208F8C\",\"#20908C\",\"#20918C\",\"#1F928C\",\"#1F938B\",\"#1F948B\",\"#1F958B\",\"#1F968B\",\"#1E978A\",\"#1E988A\",\"#1E998A\",\"#1E998A\",\"#1E9A89\",\"#1E9B89\",\"#1E9C89\",\"#1E9D88\",\"#1E9E88\",\"#1E9F88\",\"#1EA087\",\"#1FA187\",\"#1FA286\",\"#1FA386\",\"#20A485\",\"#20A585\",\"#21A685\",\"#21A784\",\"#22A784\",\"#23A883\",\"#23A982\",\"#24AA82\",\"#25AB81\",\"#26AC81\",\"#27AD80\",\"#28AE7F\",\"#29AF7F\",\"#2AB07E\",\"#2BB17D\",\"#2CB17D\",\"#2EB27C\",\"#2FB37B\",\"#30B47A\",\"#32B57A\",\"#33B679\",\"#35B778\",\"#36B877\",\"#38B976\",\"#39B976\",\"#3BBA75\",\"#3DBB74\",\"#3EBC73\",\"#40BD72\",\"#42BE71\",\"#44BE70\",\"#45BF6F\",\"#47C06E\",\"#49C16D\",\"#4BC26C\",\"#4DC26B\",\"#4FC369\",\"#51C468\",\"#53C567\",\"#55C666\",\"#57C665\",\"#59C764\",\"#5BC862\",\"#5EC961\",\"#60C960\",\"#62CA5F\",\"#64CB5D\",\"#67CC5C\",\"#69CC5B\",\"#6BCD59\",\"#6DCE58\",\"#70CE56\",\"#72CF55\",\"#74D054\",\"#77D052\",\"#79D151\",\"#7CD24F\",\"#7ED24E\",\"#81D34C\",\"#83D34B\",\"#86D449\",\"#88D547\",\"#8BD546\",\"#8DD644\",\"#90D643\",\"#92D741\",\"#95D73F\",\"#97D83E\",\"#9AD83C\",\"#9DD93A\",\"#9FD938\",\"#A2DA37\",\"#A5DA35\",\"#A7DB33\",\"#AADB32\",\"#ADDC30\",\"#AFDC2E\",\"#B2DD2C\",\"#B5DD2B\",\"#B7DD29\",\"#BADE27\",\"#BDDE26\",\"#BFDF24\",\"#C2DF22\",\"#C5DF21\",\"#C7E01F\",\"#CAE01E\",\"#CDE01D\",\"#CFE11C\",\"#D2E11B\",\"#D4E11A\",\"#D7E219\",\"#DAE218\",\"#DCE218\",\"#DFE318\",\"#E1E318\",\"#E4E318\",\"#E7E419\",\"#E9E419\",\"#ECE41A\",\"#EEE51B\",\"#F1E51C\",\"#F3E51E\",\"#F6E61F\",\"#F8E621\",\"#FAE622\",\"#FDE724\"]},\"id\":\"1814\",\"type\":\"LinearColorMapper\"},{\"attributes\":{\"bottom_units\":\"screen\",\"fill_alpha\":{\"value\":0.5},\"fill_color\":{\"value\":\"lightgrey\"},\"left_units\":\"screen\",\"level\":\"overlay\",\"line_alpha\":{\"value\":1.0},\"line_color\":{\"value\":\"black\"},\"line_dash\":[4,4],\"line_width\":{\"value\":2},\"render_mode\":\"css\",\"right_units\":\"screen\",\"top_units\":\"screen\"},\"id\":\"1873\",\"type\":\"BoxAnnotation\"},{\"attributes\":{\"source\":{\"id\":\"1815\",\"type\":\"ColumnDataSource\"}},\"id\":\"1820\",\"type\":\"CDSView\"},{\"attributes\":{\"formatter\":{\"id\":\"1868\",\"type\":\"BasicTickFormatter\"},\"ticker\":{\"id\":\"1792\",\"type\":\"BasicTicker\"}},\"id\":\"1791\",\"type\":\"LinearAxis\"},{\"attributes\":{\"formatter\":{\"id\":\"1870\",\"type\":\"BasicTickFormatter\"},\"ticker\":{\"id\":\"1797\",\"type\":\"BasicTicker\"}},\"id\":\"1796\",\"type\":\"LinearAxis\"},{\"attributes\":{\"fill_alpha\":{\"value\":0.1},\"fill_color\":{\"value\":\"#1f77b4\"},\"line_alpha\":{\"value\":0.1},\"line_color\":{\"value\":\"#1f77b4\"},\"q\":{\"field\":\"q\"},\"r\":{\"field\":\"r\"},\"size\":2},\"id\":\"1818\",\"type\":\"HexTile\"},{\"attributes\":{},\"id\":\"1868\",\"type\":\"BasicTickFormatter\"},{\"attributes\":{},\"id\":\"1787\",\"type\":\"LinearScale\"},{\"attributes\":{\"callback\":null,\"data\":{\"c\":[1,911,13,17,25,4,21,23,23,7,35,8,14,26,25,29,16,51,5,20,15,15,26,25,49,48,15,46,16,13,12,8,13,35,43,36,22,14,42,5,13,14,19,17,18,20,25,23,38,54,51,23,50,7,8,12,21,19,34,27,9,9,38,38,41,47,39,54,1,8,9,20,14,19,40,38,29,20,16,21,31,39,57,48,34,85,5,10,22,37,42,34,43,40,24,21,26,23,28,46,37,64,117,47,58,2,13,10,25,36,48,63,73,50,36,28,28,23,32,71,34,62,96,116,106,48,67,17,11,15,17,39,82,91,62,32,13,32,41,46,44,64,62,94,96,71,105,125,79,53,3,16,14,17,10,25,48,68,62,49,37,20,20,34,68,53,79,100,118,71,70,90,116,110,63,66,7,16,21,15,16,58,60,53,36,38,36,23,29,66,46,63,102,114,104,96,120,118,78,73,108,53,40,2,12,7,7,15,21,38,68,42,22,28,34,24,26,33,37,58,106,138,89,103,119,112,108,77,114,112,71,34,26,12,12,9,7,17,28,41,43,18,22,22,14,25,30,29,47,72,98,95,77,120,114,116,77,90,95,51,53,48,20,25,2,4,9,12,29,12,16,15,25,21,28,29,21,22,39,40,50,89,89,60,65,138,109,103,77,101,93,77,60,53,35,37,52,56,63,12,17,27,37,20,7,5,17,19,26,32,51,45,43,76,114,78,59,64,67,84,66,107,100,52,44,52,28,37,76,109,69,45,12,13,39,37,31,28,10,13,23,30,60,65,61,74,79,64,56,67,72,28,50,76,86,70,61,52,32,45,68,104,89,85,82,54,42,24,35,32,38,43,22,28,69,41,57,106,78,73,55,69,50,44,28,45,54,45,46,42,25,38,65,78,69,91,133,124,83,58,22,22,51,40,23,34,36,38,80,84,109,86,58,69,41,33,30,49,82,53,29,29,23,29,82,98,80,97,125,108,113,141,98,80,47,30,40,36,39,48,53,83,111,91,74,99,64,47,34,36,79,110,82,46,15,30,87,104,77,95,117,114,94,110,154,169,71,50,42,31,72,42,59,64,92,69,84,111,103,67,47,51,60,81,93,97,32,27,56,92,67,88,121,128,86,88,125,106,104,104,88,54,58,48,54,77,94,73,82,96,112,68,72,80,68,47,70,69,38,72,100,66,37,54,98,109,102,96,121,115,100,82,129,84,55,57,55,56,110,80,61,82,97,70,87,84,76,73,34,36,34,65,142,124,40,32,58,79,62,101,128,119,89,83,132,98,78,110,61,30,93,64,84,125,106,68,87,108,100,73,41,39,12,31,78,120,65,21,34,46,55,68,148,153,117,95,96,71,65,84,101,82,32,44,56,89,106,62,78,119,69,57,38,59,26,36,38,58,44,20,36,41,32,36,84,88,110,75,108,57,40,48,63,66,73,91,26,23,68,53,77,94,96,60,48,52,28,42,63,93,52,36,45,49,51,44,74,105,79,61,90,49,51,54,30,31,44,70,84,60,16,31,65,73,101,64,45,46,32,33,65,91,70,86,85,62,47,65,94,105,51,53,71,48,46,58,42,14,15,34,61,45,48,46,20,5,76,57,50,49,29,39,65,87,76,74,96,93,81,50,68,95,78,52,51,45,46,71,52,30,22,33,23,16,38,60,35,20,7,39,48,45,24,32,78,85,62,69,127,129,91,94,99,90,48,55,64,40,41,52,37,32,37,52,59,25,19,23,25,24,19,3,25,36,78,84,66,85,101,135,96,97,129,131,75,61,61,29,26,34,37,11,33,54,95,42,43,39,14,11,16,7,59,69,87,89,125,124,116,117,153,141,84,84,98,55,31,36,43,32,19,58,103,67,33,43,35,22,11,6,48,86,146,113,85,92,144,125,98,97,113,73,55,46,29,32,31,68,98,89,50,38,26,19,19,5,89,102,109,103,115,137,102,103,101,71,56,58,46,19,29,69,74,65,70,66,20,11,18,7,58,99,164,150,104,101,106,69,50,63,52,40,30,58,115,73,69,77,53,17,15,8,97,150,124,108,98,84,48,52,39,21,19,73,79,65,68,70,31,15,14,9,73,87,164,90,63,79,47,26,20,59,75,53,39,36,36,14,10,3,88,94,84,105,58,36,18,20,57,49,41,39,15,14,14,2,56,86,115,88,64,59,30,26,36,49,15,11,16,2,59,48,88,90,90,35,21,28,24,21,25,6,36,51,72,91,46,51,19,17,21,11,50,49,76,77,35,29,16,7,25,39,48,33,35,10,24,23,26,19,832,10],\"q\":[0,0,1,1,1,2,2,2,2,2,2,3,3,3,3,3,3,3,4,4,4,4,4,4,4,4,4,4,5,5,5,5,5,5,5,5,5,5,5,6,6,6,6,6,6,6,6,6,6,6,6,6,6,7,7,7,7,7,7,7,7,7,7,7,7,7,7,7,8,8,8,8,8,8,8,8,8,8,8,8,8,8,8,8,8,8,9,9,9,9,9,9,9,9,9,9,9,9,9,9,9,9,9,9,9,10,10,10,10,10,10,10,10,10,10,10,10,10,10,10,10,10,10,10,10,10,10,11,11,11,11,11,11,11,11,11,11,11,11,11,11,11,11,11,11,11,11,11,11,11,12,12,12,12,12,12,12,12,12,12,12,12,12,12,12,12,12,12,12,12,12,12,12,12,12,12,13,13,13,13,13,13,13,13,13,13,13,13,13,13,13,13,13,13,13,13,13,13,13,13,13,13,13,14,14,14,14,14,14,14,14,14,14,14,14,14,14,14,14,14,14,14,14,14,14,14,14,14,14,14,14,14,14,15,15,15,15,15,15,15,15,15,15,15,15,15,15,15,15,15,15,15,15,15,15,15,15,15,15,15,15,15,15,15,16,16,16,16,16,16,16,16,16,16,16,16,16,16,16,16,16,16,16,16,16,16,16,16,16,16,16,16,16,16,16,16,16,16,17,17,17,17,17,17,17,17,17,17,17,17,17,17,17,17,17,17,17,17,17,17,17,17,17,17,17,17,17,17,17,17,17,17,18,18,18,18,18,18,18,18,18,18,18,18,18,18,18,18,18,18,18,18,18,18,18,18,18,18,18,18,18,18,18,18,18,18,19,19,19,19,19,19,19,19,19,19,19,19,19,19,19,19,19,19,19,19,19,19,19,19,19,19,19,19,19,19,19,19,19,19,20,20,20,20,20,20,20,20,20,20,20,20,20,20,20,20,20,20,20,20,20,20,20,20,20,20,20,20,20,20,20,20,20,20,21,21,21,21,21,21,21,21,21,21,21,21,21,21,21,21,21,21,21,21,21,21,21,21,21,21,21,21,21,21,21,21,21,21,22,22,22,22,22,22,22,22,22,22,22,22,22,22,22,22,22,22,22,22,22,22,22,22,22,22,22,22,22,22,22,22,22,22,23,23,23,23,23,23,23,23,23,23,23,23,23,23,23,23,23,23,23,23,23,23,23,23,23,23,23,23,23,23,23,23,23,23,24,24,24,24,24,24,24,24,24,24,24,24,24,24,24,24,24,24,24,24,24,24,24,24,24,24,24,24,24,24,24,24,24,24,25,25,25,25,25,25,25,25,25,25,25,25,25,25,25,25,25,25,25,25,25,25,25,25,25,25,25,25,25,25,25,25,25,25,26,26,26,26,26,26,26,26,26,26,26,26,26,26,26,26,26,26,26,26,26,26,26,26,26,26,26,26,26,26,26,26,26,26,27,27,27,27,27,27,27,27,27,27,27,27,27,27,27,27,27,27,27,27,27,27,27,27,27,27,27,27,27,27,27,27,27,27,28,28,28,28,28,28,28,28,28,28,28,28,28,28,28,28,28,28,28,28,28,28,28,28,28,28,28,28,28,28,28,28,28,28,29,29,29,29,29,29,29,29,29,29,29,29,29,29,29,29,29,29,29,29,29,29,29,29,29,29,29,29,29,29,29,29,29,29,30,30,30,30,30,30,30,30,30,30,30,30,30,30,30,30,30,30,30,30,30,30,30,30,30,30,30,30,30,30,30,30,31,31,31,31,31,31,31,31,31,31,31,31,31,31,31,31,31,31,31,31,31,31,31,31,31,31,31,31,31,31,32,32,32,32,32,32,32,32,32,32,32,32,32,32,32,32,32,32,32,32,32,32,32,32,32,32,32,32,33,33,33,33,33,33,33,33,33,33,33,33,33,33,33,33,33,33,33,33,33,33,33,33,33,33,34,34,34,34,34,34,34,34,34,34,34,34,34,34,34,34,34,34,34,34,34,34,34,34,35,35,35,35,35,35,35,35,35,35,35,35,35,35,35,35,35,35,35,35,35,35,36,36,36,36,36,36,36,36,36,36,36,36,36,36,36,36,36,36,36,36,37,37,37,37,37,37,37,37,37,37,37,37,37,37,37,37,37,37,38,38,38,38,38,38,38,38,38,38,38,38,38,38,38,38,39,39,39,39,39,39,39,39,39,39,39,39,39,39,40,40,40,40,40,40,40,40,40,40,40,40,41,41,41,41,41,41,41,41,41,41,42,42,42,42,42,42,42,42,43,43,43,43,43,43,44,44,44,44,45,45],\"r\":[-1,0,-2,-1,0,-5,-4,-3,-2,-1,0,-6,-5,-4,-3,-2,-1,0,-9,-8,-7,-6,-5,-4,-3,-2,-1,0,-10,-9,-8,-7,-6,-5,-4,-3,-2,-1,0,-13,-12,-11,-10,-9,-8,-7,-6,-5,-4,-3,-2,-1,0,-14,-13,-12,-11,-10,-9,-8,-7,-6,-5,-4,-3,-2,-1,0,-17,-16,-15,-14,-13,-12,-11,-10,-9,-8,-7,-6,-5,-4,-3,-2,-1,0,-18,-17,-16,-15,-14,-13,-12,-11,-10,-9,-8,-7,-6,-5,-4,-3,-2,-1,0,-21,-20,-19,-18,-17,-16,-15,-14,-13,-12,-11,-10,-9,-8,-7,-6,-5,-4,-3,-2,-1,0,-22,-21,-20,-19,-18,-17,-16,-15,-14,-13,-12,-11,-10,-9,-8,-7,-6,-5,-4,-3,-2,-1,0,-25,-24,-23,-22,-21,-20,-19,-18,-17,-16,-15,-14,-13,-12,-11,-10,-9,-8,-7,-6,-5,-4,-3,-2,-1,0,-26,-25,-24,-23,-22,-21,-20,-19,-18,-17,-16,-15,-14,-13,-12,-11,-10,-9,-8,-7,-6,-5,-4,-3,-2,-1,0,-29,-28,-27,-26,-25,-24,-23,-22,-21,-20,-19,-18,-17,-16,-15,-14,-13,-12,-11,-10,-9,-8,-7,-6,-5,-4,-3,-2,-1,0,-30,-29,-28,-27,-26,-25,-24,-23,-22,-21,-20,-19,-18,-17,-16,-15,-14,-13,-12,-11,-10,-9,-8,-7,-6,-5,-4,-3,-2,-1,0,-33,-32,-31,-30,-29,-28,-27,-26,-25,-24,-23,-22,-21,-20,-19,-18,-17,-16,-15,-14,-13,-12,-11,-10,-9,-8,-7,-6,-5,-4,-3,-2,-1,0,-33,-32,-31,-30,-29,-28,-27,-26,-25,-24,-23,-22,-21,-20,-19,-18,-17,-16,-15,-14,-13,-12,-11,-10,-9,-8,-7,-6,-5,-4,-3,-2,-1,0,-33,-32,-31,-30,-29,-28,-27,-26,-25,-24,-23,-22,-21,-20,-19,-18,-17,-16,-15,-14,-13,-12,-11,-10,-9,-8,-7,-6,-5,-4,-3,-2,-1,0,-33,-32,-31,-30,-29,-28,-27,-26,-25,-24,-23,-22,-21,-20,-19,-18,-17,-16,-15,-14,-13,-12,-11,-10,-9,-8,-7,-6,-5,-4,-3,-2,-1,0,-33,-32,-31,-30,-29,-28,-27,-26,-25,-24,-23,-22,-21,-20,-19,-18,-17,-16,-15,-14,-13,-12,-11,-10,-9,-8,-7,-6,-5,-4,-3,-2,-1,0,-33,-32,-31,-30,-29,-28,-27,-26,-25,-24,-23,-22,-21,-20,-19,-18,-17,-16,-15,-14,-13,-12,-11,-10,-9,-8,-7,-6,-5,-4,-3,-2,-1,0,-33,-32,-31,-30,-29,-28,-27,-26,-25,-24,-23,-22,-21,-20,-19,-18,-17,-16,-15,-14,-13,-12,-11,-10,-9,-8,-7,-6,-5,-4,-3,-2,-1,0,-33,-32,-31,-30,-29,-28,-27,-26,-25,-24,-23,-22,-21,-20,-19,-18,-17,-16,-15,-14,-13,-12,-11,-10,-9,-8,-7,-6,-5,-4,-3,-2,-1,0,-33,-32,-31,-30,-29,-28,-27,-26,-25,-24,-23,-22,-21,-20,-19,-18,-17,-16,-15,-14,-13,-12,-11,-10,-9,-8,-7,-6,-5,-4,-3,-2,-1,0,-33,-32,-31,-30,-29,-28,-27,-26,-25,-24,-23,-22,-21,-20,-19,-18,-17,-16,-15,-14,-13,-12,-11,-10,-9,-8,-7,-6,-5,-4,-3,-2,-1,0,-33,-32,-31,-30,-29,-28,-27,-26,-25,-24,-23,-22,-21,-20,-19,-18,-17,-16,-15,-14,-13,-12,-11,-10,-9,-8,-7,-6,-5,-4,-3,-2,-1,0,-33,-32,-31,-30,-29,-28,-27,-26,-25,-24,-23,-22,-21,-20,-19,-18,-17,-16,-15,-14,-13,-12,-11,-10,-9,-8,-7,-6,-5,-4,-3,-2,-1,0,-33,-32,-31,-30,-29,-28,-27,-26,-25,-24,-23,-22,-21,-20,-19,-18,-17,-16,-15,-14,-13,-12,-11,-10,-9,-8,-7,-6,-5,-4,-3,-2,-1,0,-33,-32,-31,-30,-29,-28,-27,-26,-25,-24,-23,-22,-21,-20,-19,-18,-17,-16,-15,-14,-13,-12,-11,-10,-9,-8,-7,-6,-5,-4,-3,-2,-1,0,-33,-32,-31,-30,-29,-28,-27,-26,-25,-24,-23,-22,-21,-20,-19,-18,-17,-16,-15,-14,-13,-12,-11,-10,-9,-8,-7,-6,-5,-4,-3,-2,-33,-32,-31,-30,-29,-28,-27,-26,-25,-24,-23,-22,-21,-20,-19,-18,-17,-16,-15,-14,-13,-12,-11,-10,-9,-8,-7,-6,-5,-4,-33,-32,-31,-30,-29,-28,-27,-26,-25,-24,-23,-22,-21,-20,-19,-18,-17,-16,-15,-14,-13,-12,-11,-10,-9,-8,-7,-6,-33,-32,-31,-30,-29,-28,-27,-26,-25,-24,-23,-22,-21,-20,-19,-18,-17,-16,-15,-14,-13,-12,-11,-10,-9,-8,-33,-32,-31,-30,-29,-28,-27,-26,-25,-24,-23,-22,-21,-20,-19,-18,-17,-16,-15,-14,-13,-12,-11,-10,-33,-32,-31,-30,-29,-28,-27,-26,-25,-24,-23,-22,-21,-20,-19,-18,-17,-16,-15,-14,-13,-12,-33,-32,-31,-30,-29,-28,-27,-26,-25,-24,-23,-22,-21,-20,-19,-18,-17,-16,-15,-14,-33,-32,-31,-30,-29,-28,-27,-26,-25,-24,-23,-22,-21,-20,-19,-18,-17,-16,-33,-32,-31,-30,-29,-28,-27,-26,-25,-24,-23,-22,-21,-20,-19,-18,-33,-32,-31,-30,-29,-28,-27,-26,-25,-24,-23,-22,-21,-20,-33,-32,-31,-30,-29,-28,-27,-26,-25,-24,-23,-22,-33,-32,-31,-30,-29,-28,-27,-26,-25,-24,-33,-32,-31,-30,-29,-28,-27,-26,-33,-32,-31,-30,-29,-28,-33,-32,-31,-30,-33,-32]},\"selected\":{\"id\":\"1871\",\"type\":\"Selection\"},\"selection_policy\":{\"id\":\"1872\",\"type\":\"UnionRenderers\"}},\"id\":\"1815\",\"type\":\"ColumnDataSource\"},{\"attributes\":{},\"id\":\"1871\",\"type\":\"Selection\"},{\"attributes\":{\"data_source\":{\"id\":\"1815\",\"type\":\"ColumnDataSource\"},\"glyph\":{\"id\":\"1817\",\"type\":\"HexTile\"},\"hover_glyph\":null,\"muted_glyph\":null,\"nonselection_glyph\":{\"id\":\"1818\",\"type\":\"HexTile\"},\"selection_glyph\":null,\"view\":{\"id\":\"1820\",\"type\":\"CDSView\"}},\"id\":\"1819\",\"type\":\"GlyphRenderer\"},{\"attributes\":{},\"id\":\"1797\",\"type\":\"BasicTicker\"},{\"attributes\":{},\"id\":\"1806\",\"type\":\"HelpTool\"},{\"attributes\":{\"dimension\":1,\"ticker\":{\"id\":\"1797\",\"type\":\"BasicTicker\"},\"visible\":false},\"id\":\"1800\",\"type\":\"Grid\"},{\"attributes\":{\"callback\":null},\"id\":\"1783\",\"type\":\"DataRange1d\"}],\"root_ids\":[\"1780\"]},\"title\":\"Bokeh Application\",\"version\":\"1.4.0\"}};\n",
       "  var render_items = [{\"docid\":\"026424f0-9a9f-48cd-b41d-d904c74c111a\",\"roots\":{\"1780\":\"9eeb57e6-7d22-4ad1-8a9f-50bbd66d4c0c\"}}];\n",
       "  root.Bokeh.embed.embed_items_notebook(docs_json, render_items);\n",
       "\n",
       "  }\n",
       "  if (root.Bokeh !== undefined) {\n",
       "    embed_document(root);\n",
       "  } else {\n",
       "    var attempts = 0;\n",
       "    var timer = setInterval(function(root) {\n",
       "      if (root.Bokeh !== undefined) {\n",
       "        clearInterval(timer);\n",
       "        embed_document(root);\n",
       "      } else {\n",
       "        attempts++;\n",
       "        if (attempts > 100) {\n",
       "          clearInterval(timer);\n",
       "          console.log(\"Bokeh: ERROR: Unable to run BokehJS code because BokehJS library is missing\");\n",
       "        }\n",
       "      }\n",
       "    }, 10, root)\n",
       "  }\n",
       "})(window);"
      ],
      "application/vnd.bokehjs_exec.v0+json": ""
     },
     "metadata": {
      "application/vnd.bokehjs_exec.v0+json": {
       "id": "1780"
      }
     },
     "output_type": "display_data"
    }
   ],
   "source": [
    "f2 = Figure(title=\"Destination Events\", plot_width=800, plot_height=600)\n",
    "f2.grid.visible = False\n",
    "\n",
    "idx = ~pd.isnull(df.EventDestination_x)\n",
    "\n",
    "#heatmap, xedges, yedges = np.histogram2d(df.EventOrigin_x[idx], df.EventOrigin_y[idx], bins=50)\n",
    "#extent = [xedges[0], xedges[-1], yedges[0], yedges[-1]]\n",
    "\n",
    "r, bins = f2.hexbin(df.EventDestination_x[idx], df.EventDestination_y[idx], size=2)\n",
    "\n",
    "f2.add_tools(HoverTool(\n",
    "    tooltips=[(\"count\", \"@c\"), (\"(q,r)\", \"(@q, @r)\")],\n",
    "    mode=\"mouse\", point_policy=\"follow_mouse\", renderers=[r]\n",
    "))\n",
    "\n",
    "show(f2)"
   ]
  },
  {
   "cell_type": "code",
   "execution_count": 15,
   "metadata": {},
   "outputs": [
    {
     "data": {
      "text/plain": [
       "12.605263157894736"
      ]
     },
     "execution_count": 15,
     "metadata": {},
     "output_type": "execute_result"
    }
   ],
   "source": [
    "np.sum(infights['receiving']) / 38"
   ]
  },
  {
   "cell_type": "code",
   "execution_count": 16,
   "metadata": {},
   "outputs": [],
   "source": [
    "saves = pd.DataFrame(index=[p for p in players if 'Husk' in p])\n",
    "saves['count'] = 0\n",
    "\n",
    "for (index, row) in df[(df.EventType == 'Duel') & (df.OriginPlayerID.str.contains('Huskies'))].iterrows():\n",
    "    if df.EventType[index + 1] == 'Duel' and row.OriginPlayerID == df.OriginPlayerID[index + 1] and df.EventType[index + 1] == 'Duel':\n",
    "        saves['count'][row.OriginPlayerID] += 1"
   ]
  },
  {
   "cell_type": "code",
   "execution_count": 20,
   "metadata": {},
   "outputs": [],
   "source": [
    "import matplotlib.pyplot as plt\n",
    "%matplotlib widget"
   ]
  },
  {
   "cell_type": "code",
   "execution_count": 21,
   "metadata": {},
   "outputs": [
    {
     "data": {
      "application/vnd.jupyter.widget-view+json": {
       "model_id": "dfa7a269788f42348cfbff41a3141968",
       "version_major": 2,
       "version_minor": 0
      },
      "text/plain": [
       "Canvas(toolbar=Toolbar(toolitems=[('Home', 'Reset original view', 'home', 'home'), ('Back', 'Back to previous …"
      ]
     },
     "metadata": {},
     "output_type": "display_data"
    }
   ],
   "source": [
    "pos = nx.spring_layout(gDuel)\n",
    "nx.draw(gDuel, pos, with_labels=True, connectionstyle='arc3, rad = 0.1')\n",
    "#edge_labels=dict([((u,v,),d['length'])\n",
    "#             for u,v,d in G.edges(data=True)])\n",
    "\n",
    "plt.show()"
   ]
  },
  {
   "cell_type": "code",
   "execution_count": null,
   "metadata": {},
   "outputs": [],
   "source": []
  }
 ],
 "metadata": {
  "kernelspec": {
   "display_name": "Python 3",
   "language": "python",
   "name": "python3"
  },
  "language_info": {
   "codemirror_mode": {
    "name": "ipython",
    "version": 3
   },
   "file_extension": ".py",
   "mimetype": "text/x-python",
   "name": "python",
   "nbconvert_exporter": "python",
   "pygments_lexer": "ipython3",
   "version": "3.7.6"
  }
 },
 "nbformat": 4,
 "nbformat_minor": 4
}
